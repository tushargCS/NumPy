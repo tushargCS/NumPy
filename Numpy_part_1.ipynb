{
 "cells": [
  {
   "cell_type": "markdown",
   "id": "29d42a91",
   "metadata": {},
   "source": [
    "<h1 style=\"color:red;font-size:50px;\">NumPy</h1>"
   ]
  },
  {
   "cell_type": "markdown",
   "id": "8bb554be",
   "metadata": {},
   "source": [
    "<p>NumPy is a Python library that stands for \"Numerical Python.\" It provides an extensive collection of high-performance mathematical functions and multidimensional array objects. NumPy is designed to efficiently handle large datasets and perform numerical computations efficiently.\n",
    "\n",
    "Formally, NumPy can be defined as a powerful open-source numerical computing library for Python, which provides support for large, multi-dimensional arrays and matrices, along with an extensive collection of mathematical functions to operate on these arrays. It serves as the fundamental building block for scientific computing in Python, offering high-performance numerical operations and convenient array manipulation capabilities.\n",
    "\n",
    "In Jupyter Notebook, NumPy can be utilized by importing the library and using its functions and objects to perform various numerical computations, data manipulation, and data analysis tasks. It offers a user-friendly interface for working with arrays and matrices, allowing users to efficiently perform mathematical operations, linear algebra computations, statistical analysis, and more.\n",
    "\n",
    "Overall, NumPy plays a crucial role in scientific computing and data analysis workflows within Jupyter Notebook, enabling users to leverage its powerful features and capabilities for efficient numerical computations and array manipulation.</p>"
   ]
  },
  {
   "cell_type": "code",
   "execution_count": 1,
   "id": "b1f86e00",
   "metadata": {},
   "outputs": [],
   "source": [
    "import numpy as np"
   ]
  },
  {
   "cell_type": "markdown",
   "id": "069084ca",
   "metadata": {},
   "source": [
    "<h1 style=\"color:blue;font-size:30px\">Creating numpy array</h1>"
   ]
  },
  {
   "cell_type": "code",
   "execution_count": 2,
   "id": "6dec0b64",
   "metadata": {},
   "outputs": [],
   "source": [
    "a=np.array([1,2,3]) "
   ]
  },
  {
   "cell_type": "code",
   "execution_count": 3,
   "id": "99c20b96",
   "metadata": {},
   "outputs": [
    {
     "name": "stdout",
     "output_type": "stream",
     "text": [
      "[1 2 3]\n"
     ]
    }
   ],
   "source": [
    "print(a) #-->vector"
   ]
  },
  {
   "cell_type": "code",
   "execution_count": 4,
   "id": "4749b547",
   "metadata": {},
   "outputs": [
    {
     "data": {
      "text/plain": [
       "array([1, 2, 3])"
      ]
     },
     "execution_count": 4,
     "metadata": {},
     "output_type": "execute_result"
    }
   ],
   "source": [
    "a"
   ]
  },
  {
   "cell_type": "code",
   "execution_count": 5,
   "id": "2e473fc8",
   "metadata": {},
   "outputs": [
    {
     "data": {
      "text/plain": [
       "numpy.ndarray"
      ]
     },
     "execution_count": 5,
     "metadata": {},
     "output_type": "execute_result"
    }
   ],
   "source": [
    "type(a)"
   ]
  },
  {
   "cell_type": "code",
   "execution_count": 6,
   "id": "d047eb81",
   "metadata": {},
   "outputs": [],
   "source": [
    "b=np.array([[1,2,3],[4,5,6]])"
   ]
  },
  {
   "cell_type": "code",
   "execution_count": 7,
   "id": "77ede83c",
   "metadata": {},
   "outputs": [
    {
     "data": {
      "text/plain": [
       "array([[1, 2, 3],\n",
       "       [4, 5, 6]])"
      ]
     },
     "execution_count": 7,
     "metadata": {},
     "output_type": "execute_result"
    }
   ],
   "source": [
    "b  #-->matrix"
   ]
  },
  {
   "cell_type": "code",
   "execution_count": 8,
   "id": "07669669",
   "metadata": {},
   "outputs": [],
   "source": [
    "c=np.array([[[1,2],[3,4]],[[5,6],[7,8]]])  #--> Tensor"
   ]
  },
  {
   "cell_type": "code",
   "execution_count": 9,
   "id": "5113602c",
   "metadata": {},
   "outputs": [
    {
     "data": {
      "text/plain": [
       "array([[[1, 2],\n",
       "        [3, 4]],\n",
       "\n",
       "       [[5, 6],\n",
       "        [7, 8]]])"
      ]
     },
     "execution_count": 9,
     "metadata": {},
     "output_type": "execute_result"
    }
   ],
   "source": [
    "c"
   ]
  },
  {
   "cell_type": "markdown",
   "id": "0180512b",
   "metadata": {},
   "source": [
    "<h1 style=\"color:orange\">dtype</h1>"
   ]
  },
  {
   "cell_type": "markdown",
   "id": "5e63b169",
   "metadata": {},
   "source": [
    "<p style=\"font-size:20px\">You can specify the data type when creating a NumPy array using the dtype parameter.\n",
    "    For example:</p>"
   ]
  },
  {
   "cell_type": "code",
   "execution_count": 10,
   "id": "68de2d8d",
   "metadata": {
    "scrolled": true
   },
   "outputs": [
    {
     "data": {
      "text/plain": [
       "array([1., 2., 3.])"
      ]
     },
     "execution_count": 10,
     "metadata": {},
     "output_type": "execute_result"
    }
   ],
   "source": [
    "np.array([1,2,3],dtype=float)"
   ]
  },
  {
   "cell_type": "code",
   "execution_count": 11,
   "id": "0e737ca5",
   "metadata": {},
   "outputs": [
    {
     "data": {
      "text/plain": [
       "array([ True,  True,  True])"
      ]
     },
     "execution_count": 11,
     "metadata": {},
     "output_type": "execute_result"
    }
   ],
   "source": [
    "np.array([1,2,3],dtype=bool)"
   ]
  },
  {
   "cell_type": "code",
   "execution_count": 12,
   "id": "c0ea04e8",
   "metadata": {},
   "outputs": [
    {
     "data": {
      "text/plain": [
       "array([1.+0.j, 2.+0.j, 3.+0.j])"
      ]
     },
     "execution_count": 12,
     "metadata": {},
     "output_type": "execute_result"
    }
   ],
   "source": [
    "np.array([1,2,3],dtype=complex)"
   ]
  },
  {
   "cell_type": "markdown",
   "id": "67ba1000",
   "metadata": {},
   "source": [
    "<h1 style=\"color:orange\">arange()</h1>"
   ]
  },
  {
   "cell_type": "markdown",
   "id": "be9b748c",
   "metadata": {},
   "source": [
    "<p style=\"font-size:20px\">In NumPy, the arange function is used to create arrays with regularly spaced values within a specified range. It returns an array containing evenly spaced values starting from a specified start value and incrementing by a specified step size.</p>"
   ]
  },
  {
   "cell_type": "code",
   "execution_count": 13,
   "id": "92849987",
   "metadata": {},
   "outputs": [
    {
     "data": {
      "text/plain": [
       "array([0, 1, 2, 3, 4, 5, 6, 7, 8, 9])"
      ]
     },
     "execution_count": 13,
     "metadata": {},
     "output_type": "execute_result"
    }
   ],
   "source": [
    "np.arange(10)"
   ]
  },
  {
   "cell_type": "code",
   "execution_count": 14,
   "id": "05f8d638",
   "metadata": {},
   "outputs": [
    {
     "data": {
      "text/plain": [
       "array([ 1,  2,  3,  4,  5,  6,  7,  8,  9, 10])"
      ]
     },
     "execution_count": 14,
     "metadata": {},
     "output_type": "execute_result"
    }
   ],
   "source": [
    "np.arange(1,11)"
   ]
  },
  {
   "cell_type": "markdown",
   "id": "ee942739",
   "metadata": {},
   "source": [
    "<h1 style=\"color:orange\">reshape()</h1>"
   ]
  },
  {
   "cell_type": "markdown",
   "id": "573a2bc1",
   "metadata": {},
   "source": [
    "<p style=\"font-size:20px\">In NumPy, the reshape function is used to change the shape or dimensions of an array without altering its data. It returns a new view of the original array with a different shape.\n",
    "\n",
    "</p>"
   ]
  },
  {
   "cell_type": "code",
   "execution_count": 15,
   "id": "f89241d0",
   "metadata": {},
   "outputs": [
    {
     "data": {
      "text/plain": [
       "array([[ 1,  2],\n",
       "       [ 3,  4],\n",
       "       [ 5,  6],\n",
       "       [ 7,  8],\n",
       "       [ 9, 10]])"
      ]
     },
     "execution_count": 15,
     "metadata": {},
     "output_type": "execute_result"
    }
   ],
   "source": [
    "np.arange(1,11).reshape(5,2)"
   ]
  },
  {
   "cell_type": "code",
   "execution_count": 16,
   "id": "03dec08e",
   "metadata": {},
   "outputs": [
    {
     "data": {
      "text/plain": [
       "array([[ 1,  2,  3,  4,  5,  6,  7,  8,  9, 10]])"
      ]
     },
     "execution_count": 16,
     "metadata": {},
     "output_type": "execute_result"
    }
   ],
   "source": [
    "np.arange(1,11).reshape(1,10)"
   ]
  },
  {
   "cell_type": "markdown",
   "id": "2aec48dd",
   "metadata": {},
   "source": [
    "<h1 style=\"color:orange\">ones() & zeros()</h1>"
   ]
  },
  {
   "cell_type": "markdown",
   "id": "9ed785ac",
   "metadata": {},
   "source": [
    "<p style=\"font-size:20px\">In NumPy, the ones and zeros functions are used to create arrays filled with ones and zeros, respectively. These functions allow you to quickly generate arrays of desired shape and data type, filled with either ones or zeros.</p>"
   ]
  },
  {
   "cell_type": "code",
   "execution_count": 17,
   "id": "08c8fb66",
   "metadata": {},
   "outputs": [
    {
     "data": {
      "text/plain": [
       "array([[1., 1.],\n",
       "       [1., 1.]])"
      ]
     },
     "execution_count": 17,
     "metadata": {},
     "output_type": "execute_result"
    }
   ],
   "source": [
    "np.ones((2,2))"
   ]
  },
  {
   "cell_type": "code",
   "execution_count": 18,
   "id": "ef0e614b",
   "metadata": {},
   "outputs": [
    {
     "data": {
      "text/plain": [
       "array([[0., 0., 0.],\n",
       "       [0., 0., 0.]])"
      ]
     },
     "execution_count": 18,
     "metadata": {},
     "output_type": "execute_result"
    }
   ],
   "source": [
    "np.zeros((2,3))"
   ]
  },
  {
   "cell_type": "markdown",
   "id": "4ce66116",
   "metadata": {},
   "source": [
    "<h1 style=\"color:orange\">random.rand()</h1>"
   ]
  },
  {
   "cell_type": "markdown",
   "id": "a5bdfefe",
   "metadata": {},
   "source": [
    "<p style='font-size:20px'>np.random is a module in NumPy that provides functions for generating random numbers, random arrays, and performing random sampling. It allows you to incorporate randomness and simulate random processes in your data analysis or modeling tasks.\n",
    "</p>\n"
   ]
  },
  {
   "cell_type": "code",
   "execution_count": 19,
   "id": "ed58d384",
   "metadata": {
    "scrolled": true
   },
   "outputs": [
    {
     "data": {
      "text/plain": [
       "array([[0.79787339, 0.1217412 ],\n",
       "       [0.9445563 , 0.06071541],\n",
       "       [0.93796708, 0.26345268]])"
      ]
     },
     "execution_count": 19,
     "metadata": {},
     "output_type": "execute_result"
    }
   ],
   "source": [
    "np.random.rand(3,2)"
   ]
  },
  {
   "cell_type": "markdown",
   "id": "3cd1c4d7",
   "metadata": {},
   "source": [
    "<h1 style=\"color:orange\">linspace()</h1>"
   ]
  },
  {
   "cell_type": "markdown",
   "id": "a8c17761",
   "metadata": {},
   "source": [
    "<p style='font-size:20px'>In NumPy, the linspace function is used to create arrays with evenly spaced values between a specified start and end point, inclusive. It allows you to define the number of elements or the spacing between the values in the resulting array.</p>"
   ]
  },
  {
   "cell_type": "code",
   "execution_count": 20,
   "id": "5a5df77a",
   "metadata": {
    "scrolled": true
   },
   "outputs": [
    {
     "data": {
      "text/plain": [
       "array([ 0.        ,  1.11111111,  2.22222222,  3.33333333,  4.44444444,\n",
       "        5.55555556,  6.66666667,  7.77777778,  8.88888889, 10.        ])"
      ]
     },
     "execution_count": 20,
     "metadata": {},
     "output_type": "execute_result"
    }
   ],
   "source": [
    "np.linspace(0,10,10)"
   ]
  },
  {
   "cell_type": "markdown",
   "id": "067a8a24",
   "metadata": {},
   "source": [
    "<h1 style=\"color:orange\">identity()</h1>"
   ]
  },
  {
   "cell_type": "markdown",
   "id": "fd285561",
   "metadata": {},
   "source": [
    "<p style=\"font-size:20px\"> In NumPy, the identity function is used to create an identity matrix, which is a square matrix with ones on the main diagonal and zeros elsewhere. </p>"
   ]
  },
  {
   "cell_type": "code",
   "execution_count": 21,
   "id": "2db543b6",
   "metadata": {},
   "outputs": [
    {
     "data": {
      "text/plain": [
       "array([[1., 0., 0.],\n",
       "       [0., 1., 0.],\n",
       "       [0., 0., 1.]])"
      ]
     },
     "execution_count": 21,
     "metadata": {},
     "output_type": "execute_result"
    }
   ],
   "source": [
    "np.identity(3)"
   ]
  },
  {
   "cell_type": "markdown",
   "id": "528c175c",
   "metadata": {},
   "source": [
    "<h1 style=\"color:blue;font-size:30px\">Attributes</h1>"
   ]
  },
  {
   "cell_type": "code",
   "execution_count": 22,
   "id": "8fd9dc62",
   "metadata": {},
   "outputs": [],
   "source": [
    "a1=np.arange(10,dtype=np.int32)"
   ]
  },
  {
   "cell_type": "code",
   "execution_count": 23,
   "id": "fbcbe6ec",
   "metadata": {},
   "outputs": [
    {
     "data": {
      "text/plain": [
       "array([0, 1, 2, 3, 4, 5, 6, 7, 8, 9], dtype=int32)"
      ]
     },
     "execution_count": 23,
     "metadata": {},
     "output_type": "execute_result"
    }
   ],
   "source": [
    "a1"
   ]
  },
  {
   "cell_type": "code",
   "execution_count": 24,
   "id": "44fd41d5",
   "metadata": {},
   "outputs": [],
   "source": [
    "a2 = np.arange(12,dtype=float).reshape(3,4)"
   ]
  },
  {
   "cell_type": "code",
   "execution_count": 25,
   "id": "490f0fd4",
   "metadata": {},
   "outputs": [
    {
     "data": {
      "text/plain": [
       "array([[ 0.,  1.,  2.,  3.],\n",
       "       [ 4.,  5.,  6.,  7.],\n",
       "       [ 8.,  9., 10., 11.]])"
      ]
     },
     "execution_count": 25,
     "metadata": {},
     "output_type": "execute_result"
    }
   ],
   "source": [
    "a2"
   ]
  },
  {
   "cell_type": "code",
   "execution_count": 26,
   "id": "c841657d",
   "metadata": {},
   "outputs": [],
   "source": [
    "a3 = np.arange(8).reshape(2,2,2)"
   ]
  },
  {
   "cell_type": "code",
   "execution_count": 27,
   "id": "b795cca1",
   "metadata": {},
   "outputs": [
    {
     "data": {
      "text/plain": [
       "array([[[0, 1],\n",
       "        [2, 3]],\n",
       "\n",
       "       [[4, 5],\n",
       "        [6, 7]]])"
      ]
     },
     "execution_count": 27,
     "metadata": {},
     "output_type": "execute_result"
    }
   ],
   "source": [
    "a3"
   ]
  },
  {
   "cell_type": "markdown",
   "id": "afdfea74",
   "metadata": {},
   "source": [
    "<h1 style=\"color:orange\">ndim</h1>"
   ]
  },
  {
   "cell_type": "code",
   "execution_count": 28,
   "id": "45e237da",
   "metadata": {},
   "outputs": [
    {
     "name": "stdout",
     "output_type": "stream",
     "text": [
      "1\n",
      "2\n",
      "3\n"
     ]
    }
   ],
   "source": [
    "print(a1.ndim)\n",
    "print(a2.ndim)\n",
    "print(a3.ndim)"
   ]
  },
  {
   "cell_type": "markdown",
   "id": "b157e9e7",
   "metadata": {},
   "source": [
    "<h1 style=\"color:orange\">shape</h1>"
   ]
  },
  {
   "cell_type": "code",
   "execution_count": 29,
   "id": "5c2be394",
   "metadata": {},
   "outputs": [
    {
     "data": {
      "text/plain": [
       "(10,)"
      ]
     },
     "execution_count": 29,
     "metadata": {},
     "output_type": "execute_result"
    }
   ],
   "source": [
    "a1.shape"
   ]
  },
  {
   "cell_type": "code",
   "execution_count": 30,
   "id": "06edf2ae",
   "metadata": {},
   "outputs": [
    {
     "data": {
      "text/plain": [
       "(3, 4)"
      ]
     },
     "execution_count": 30,
     "metadata": {},
     "output_type": "execute_result"
    }
   ],
   "source": [
    "a2.shape"
   ]
  },
  {
   "cell_type": "code",
   "execution_count": 31,
   "id": "6575b14c",
   "metadata": {},
   "outputs": [
    {
     "data": {
      "text/plain": [
       "(2, 2, 2)"
      ]
     },
     "execution_count": 31,
     "metadata": {},
     "output_type": "execute_result"
    }
   ],
   "source": [
    "a3.shape"
   ]
  },
  {
   "cell_type": "markdown",
   "id": "91975809",
   "metadata": {},
   "source": [
    "<h1 style=\"color:orange\">size</h1>"
   ]
  },
  {
   "cell_type": "code",
   "execution_count": 32,
   "id": "a2ad9575",
   "metadata": {},
   "outputs": [
    {
     "data": {
      "text/plain": [
       "10"
      ]
     },
     "execution_count": 32,
     "metadata": {},
     "output_type": "execute_result"
    }
   ],
   "source": [
    " a1.size"
   ]
  },
  {
   "cell_type": "code",
   "execution_count": 33,
   "id": "71884fb2",
   "metadata": {},
   "outputs": [
    {
     "data": {
      "text/plain": [
       "12"
      ]
     },
     "execution_count": 33,
     "metadata": {},
     "output_type": "execute_result"
    }
   ],
   "source": [
    "a2.size"
   ]
  },
  {
   "cell_type": "code",
   "execution_count": 34,
   "id": "64843db2",
   "metadata": {},
   "outputs": [
    {
     "data": {
      "text/plain": [
       "8"
      ]
     },
     "execution_count": 34,
     "metadata": {},
     "output_type": "execute_result"
    }
   ],
   "source": [
    "a3.size"
   ]
  },
  {
   "cell_type": "markdown",
   "id": "a6467958",
   "metadata": {},
   "source": [
    "<h1 style=\"color:orange\">itemsize</h1>"
   ]
  },
  {
   "cell_type": "code",
   "execution_count": 35,
   "id": "9c879583",
   "metadata": {},
   "outputs": [
    {
     "data": {
      "text/plain": [
       "4"
      ]
     },
     "execution_count": 35,
     "metadata": {},
     "output_type": "execute_result"
    }
   ],
   "source": [
    "a1.itemsize"
   ]
  },
  {
   "cell_type": "code",
   "execution_count": 36,
   "id": "afd602e6",
   "metadata": {},
   "outputs": [
    {
     "data": {
      "text/plain": [
       "8"
      ]
     },
     "execution_count": 36,
     "metadata": {},
     "output_type": "execute_result"
    }
   ],
   "source": [
    "a2.itemsize"
   ]
  },
  {
   "cell_type": "code",
   "execution_count": 37,
   "id": "7cbc04c9",
   "metadata": {},
   "outputs": [
    {
     "data": {
      "text/plain": [
       "8"
      ]
     },
     "execution_count": 37,
     "metadata": {},
     "output_type": "execute_result"
    }
   ],
   "source": [
    "a3.itemsize"
   ]
  },
  {
   "cell_type": "markdown",
   "id": "4c0ca7b3",
   "metadata": {},
   "source": [
    "<h1 style=\"color:orange\">dtype</h1>"
   ]
  },
  {
   "cell_type": "code",
   "execution_count": 38,
   "id": "075000f1",
   "metadata": {
    "scrolled": true
   },
   "outputs": [
    {
     "name": "stdout",
     "output_type": "stream",
     "text": [
      "int32\n"
     ]
    }
   ],
   "source": [
    "print(a1.dtype)"
   ]
  },
  {
   "cell_type": "code",
   "execution_count": 39,
   "id": "969d7f21",
   "metadata": {},
   "outputs": [
    {
     "name": "stdout",
     "output_type": "stream",
     "text": [
      "float64\n"
     ]
    }
   ],
   "source": [
    "print(a2.dtype)"
   ]
  },
  {
   "cell_type": "code",
   "execution_count": 40,
   "id": "241880ca",
   "metadata": {},
   "outputs": [
    {
     "name": "stdout",
     "output_type": "stream",
     "text": [
      "int64\n"
     ]
    }
   ],
   "source": [
    "print(a3.dtype)"
   ]
  },
  {
   "cell_type": "markdown",
   "id": "5d558fa9",
   "metadata": {},
   "source": [
    "<h1 style=\"color:blue;font-size:30px\">Changing Datatype</h1>"
   ]
  },
  {
   "cell_type": "markdown",
   "id": "0694476b",
   "metadata": {},
   "source": [
    "<h1 style=\"color:orange\">astype()</h1>"
   ]
  },
  {
   "cell_type": "code",
   "execution_count": 41,
   "id": "e387ceb5",
   "metadata": {
    "scrolled": true
   },
   "outputs": [
    {
     "data": {
      "text/plain": [
       "array([[[0, 1],\n",
       "        [2, 3]],\n",
       "\n",
       "       [[4, 5],\n",
       "        [6, 7]]], dtype=int32)"
      ]
     },
     "execution_count": 41,
     "metadata": {},
     "output_type": "execute_result"
    }
   ],
   "source": [
    "a3.astype(np.int32)"
   ]
  },
  {
   "cell_type": "markdown",
   "id": "5ab6685c",
   "metadata": {},
   "source": [
    "<h1 style=\"color:blue;font-size:30px\">Array Operations</h1>"
   ]
  },
  {
   "cell_type": "code",
   "execution_count": 42,
   "id": "e2412a42",
   "metadata": {},
   "outputs": [],
   "source": [
    "a1 = np.arange(12).reshape(3,4)\n",
    "a2= np.arange(12,24).reshape(3,4)"
   ]
  },
  {
   "cell_type": "markdown",
   "id": "6ee9b86e",
   "metadata": {},
   "source": [
    "<h1 style=\"color:orange\">scalar operation</h1>"
   ]
  },
  {
   "cell_type": "code",
   "execution_count": 43,
   "id": "ad7f3518",
   "metadata": {
    "scrolled": true
   },
   "outputs": [
    {
     "data": {
      "text/plain": [
       "array([[ 2,  3,  4,  5],\n",
       "       [ 6,  7,  8,  9],\n",
       "       [10, 11, 12, 13]])"
      ]
     },
     "execution_count": 43,
     "metadata": {},
     "output_type": "execute_result"
    }
   ],
   "source": [
    "# arithmetic (*,+,-,/,**,%) \n",
    "a1+2"
   ]
  },
  {
   "cell_type": "code",
   "execution_count": 44,
   "id": "238cf2a8",
   "metadata": {},
   "outputs": [
    {
     "data": {
      "text/plain": [
       "array([[-2, -1,  0,  1],\n",
       "       [ 2,  3,  4,  5],\n",
       "       [ 6,  7,  8,  9]])"
      ]
     },
     "execution_count": 44,
     "metadata": {},
     "output_type": "execute_result"
    }
   ],
   "source": [
    "a1-2"
   ]
  },
  {
   "cell_type": "code",
   "execution_count": 45,
   "id": "e632bd1b",
   "metadata": {},
   "outputs": [
    {
     "data": {
      "text/plain": [
       "array([[0. , 0.5, 1. , 1.5],\n",
       "       [2. , 2.5, 3. , 3.5],\n",
       "       [4. , 4.5, 5. , 5.5]])"
      ]
     },
     "execution_count": 45,
     "metadata": {},
     "output_type": "execute_result"
    }
   ],
   "source": [
    "a1/2"
   ]
  },
  {
   "cell_type": "code",
   "execution_count": 46,
   "id": "9afe02fb",
   "metadata": {},
   "outputs": [
    {
     "data": {
      "text/plain": [
       "array([[0, 1, 0, 1],\n",
       "       [0, 1, 0, 1],\n",
       "       [0, 1, 0, 1]])"
      ]
     },
     "execution_count": 46,
     "metadata": {},
     "output_type": "execute_result"
    }
   ],
   "source": [
    "a1%2"
   ]
  },
  {
   "cell_type": "code",
   "execution_count": 47,
   "id": "d7d74eb4",
   "metadata": {},
   "outputs": [
    {
     "data": {
      "text/plain": [
       "array([[  0,   1,   4,   9],\n",
       "       [ 16,  25,  36,  49],\n",
       "       [ 64,  81, 100, 121]])"
      ]
     },
     "execution_count": 47,
     "metadata": {},
     "output_type": "execute_result"
    }
   ],
   "source": [
    "a1**2"
   ]
  },
  {
   "cell_type": "code",
   "execution_count": 48,
   "id": "ae3af58e",
   "metadata": {},
   "outputs": [
    {
     "data": {
      "text/plain": [
       "array([[0, 0, 1, 1],\n",
       "       [2, 2, 3, 3],\n",
       "       [4, 4, 5, 5]])"
      ]
     },
     "execution_count": 48,
     "metadata": {},
     "output_type": "execute_result"
    }
   ],
   "source": [
    "a1//2"
   ]
  },
  {
   "cell_type": "code",
   "execution_count": 49,
   "id": "8e7d985e",
   "metadata": {},
   "outputs": [
    {
     "data": {
      "text/plain": [
       "array([[ 0,  2,  4,  6],\n",
       "       [ 8, 10, 12, 14],\n",
       "       [16, 18, 20, 22]])"
      ]
     },
     "execution_count": 49,
     "metadata": {},
     "output_type": "execute_result"
    }
   ],
   "source": [
    "a1*2"
   ]
  },
  {
   "cell_type": "code",
   "execution_count": 50,
   "id": "de6c047a",
   "metadata": {},
   "outputs": [
    {
     "data": {
      "text/plain": [
       "array([[ True,  True,  True,  True],\n",
       "       [ True,  True,  True,  True],\n",
       "       [ True,  True,  True,  True]])"
      ]
     },
     "execution_count": 50,
     "metadata": {},
     "output_type": "execute_result"
    }
   ],
   "source": [
    "#relational\n",
    "a2>5"
   ]
  },
  {
   "cell_type": "code",
   "execution_count": 51,
   "id": "7587edb4",
   "metadata": {
    "scrolled": true
   },
   "outputs": [
    {
     "data": {
      "text/plain": [
       "array([[False, False, False,  True],\n",
       "       [False, False, False, False],\n",
       "       [False, False, False, False]])"
      ]
     },
     "execution_count": 51,
     "metadata": {},
     "output_type": "execute_result"
    }
   ],
   "source": [
    "a2==15"
   ]
  },
  {
   "cell_type": "markdown",
   "id": "5f63efa7",
   "metadata": {},
   "source": [
    "<h1 style=\"color:orange\">vector operation</h1>"
   ]
  },
  {
   "cell_type": "code",
   "execution_count": 52,
   "id": "af53ce88",
   "metadata": {},
   "outputs": [
    {
     "data": {
      "text/plain": [
       "array([[  0,  13,  28,  45],\n",
       "       [ 64,  85, 108, 133],\n",
       "       [160, 189, 220, 253]])"
      ]
     },
     "execution_count": 52,
     "metadata": {},
     "output_type": "execute_result"
    }
   ],
   "source": [
    "#arithmetic\n",
    "a1*a2"
   ]
  },
  {
   "cell_type": "markdown",
   "id": "a7172e41",
   "metadata": {},
   "source": [
    "<h1 style=\"color:blue;font-size:30px\">Array Functions</h1>"
   ]
  },
  {
   "cell_type": "markdown",
   "id": "25e5e292",
   "metadata": {},
   "source": [
    "<h1 style=\"color:orange\">round()</h1>"
   ]
  },
  {
   "cell_type": "code",
   "execution_count": 53,
   "id": "e25cd601",
   "metadata": {},
   "outputs": [],
   "source": [
    " a1 = np.random.random((3,3))"
   ]
  },
  {
   "cell_type": "code",
   "execution_count": 54,
   "id": "e64e1264",
   "metadata": {},
   "outputs": [],
   "source": [
    "a1=np.round(a1*100)"
   ]
  },
  {
   "cell_type": "code",
   "execution_count": 55,
   "id": "dad22590",
   "metadata": {},
   "outputs": [
    {
     "data": {
      "text/plain": [
       "array([[77., 80., 31.],\n",
       "       [70., 49., 57.],\n",
       "       [51., 23., 48.]])"
      ]
     },
     "execution_count": 55,
     "metadata": {},
     "output_type": "execute_result"
    }
   ],
   "source": [
    "a1"
   ]
  },
  {
   "cell_type": "markdown",
   "id": "0d9e9b19",
   "metadata": {},
   "source": [
    "<h1 style=\"color:orange\">min()</h1>"
   ]
  },
  {
   "cell_type": "code",
   "execution_count": 56,
   "id": "c3361593",
   "metadata": {},
   "outputs": [
    {
     "data": {
      "text/plain": [
       "23.0"
      ]
     },
     "execution_count": 56,
     "metadata": {},
     "output_type": "execute_result"
    }
   ],
   "source": [
    "a1.min()"
   ]
  },
  {
   "cell_type": "markdown",
   "id": "fa7b38b1",
   "metadata": {},
   "source": [
    "<h1 style=\"color:orange\">sum()</h1>"
   ]
  },
  {
   "cell_type": "code",
   "execution_count": 57,
   "id": "70602b8e",
   "metadata": {},
   "outputs": [
    {
     "data": {
      "text/plain": [
       "486.0"
      ]
     },
     "execution_count": 57,
     "metadata": {},
     "output_type": "execute_result"
    }
   ],
   "source": [
    "a1.sum()"
   ]
  },
  {
   "cell_type": "markdown",
   "id": "aed993fc",
   "metadata": {},
   "source": [
    "<h1 style=\"color:orange\">max()</h1>"
   ]
  },
  {
   "cell_type": "code",
   "execution_count": 58,
   "id": "3d8b7666",
   "metadata": {},
   "outputs": [
    {
     "data": {
      "text/plain": [
       "80.0"
      ]
     },
     "execution_count": 58,
     "metadata": {},
     "output_type": "execute_result"
    }
   ],
   "source": [
    "a1.max()"
   ]
  },
  {
   "cell_type": "markdown",
   "id": "18166669",
   "metadata": {},
   "source": [
    "<h1 style=\"color:orange\">prod()</h1>"
   ]
  },
  {
   "cell_type": "code",
   "execution_count": 59,
   "id": "705b5c09",
   "metadata": {},
   "outputs": [
    {
     "data": {
      "text/plain": [
       "2102086732838400.0"
      ]
     },
     "execution_count": 59,
     "metadata": {},
     "output_type": "execute_result"
    }
   ],
   "source": [
    "np.prod(a1)"
   ]
  },
  {
   "cell_type": "markdown",
   "id": "84673c6a",
   "metadata": {},
   "source": [
    "<h1 style=\"color:orange\">for row-wise</h1>"
   ]
  },
  {
   "cell_type": "code",
   "execution_count": 60,
   "id": "312ea801",
   "metadata": {},
   "outputs": [
    {
     "data": {
      "text/plain": [
       "array([80., 70., 51.])"
      ]
     },
     "execution_count": 60,
     "metadata": {},
     "output_type": "execute_result"
    }
   ],
   "source": [
    "np.max(a1,axis=1) "
   ]
  },
  {
   "cell_type": "markdown",
   "id": "2bb22eab",
   "metadata": {},
   "source": [
    "<h1 style=\"color:orange\">column-wise</h1>"
   ]
  },
  {
   "cell_type": "code",
   "execution_count": 61,
   "id": "22d6f247",
   "metadata": {},
   "outputs": [
    {
     "data": {
      "text/plain": [
       "array([77., 80., 57.])"
      ]
     },
     "execution_count": 61,
     "metadata": {},
     "output_type": "execute_result"
    }
   ],
   "source": [
    "#column wise\n",
    "np.max(a1,axis=0)"
   ]
  },
  {
   "cell_type": "markdown",
   "id": "032a2f32",
   "metadata": {},
   "source": [
    "<h1 style=\"color:orange\">row-wise multiplication</h1>"
   ]
  },
  {
   "cell_type": "code",
   "execution_count": 62,
   "id": "2c4b4c9f",
   "metadata": {},
   "outputs": [
    {
     "data": {
      "text/plain": [
       "array([190960., 195510.,  56304.])"
      ]
     },
     "execution_count": 62,
     "metadata": {},
     "output_type": "execute_result"
    }
   ],
   "source": [
    "np.prod(a1,axis=1)"
   ]
  },
  {
   "cell_type": "markdown",
   "id": "a87187c5",
   "metadata": {},
   "source": [
    "<h1 style=\"color:orange\">mean()</h1>"
   ]
  },
  {
   "cell_type": "code",
   "execution_count": 63,
   "id": "f08d1cf2",
   "metadata": {},
   "outputs": [
    {
     "data": {
      "text/plain": [
       "54.0"
      ]
     },
     "execution_count": 63,
     "metadata": {},
     "output_type": "execute_result"
    }
   ],
   "source": [
    "np.mean(a1)"
   ]
  },
  {
   "cell_type": "code",
   "execution_count": 64,
   "id": "6ab56cb2",
   "metadata": {},
   "outputs": [
    {
     "data": {
      "text/plain": [
       "array([62.66666667, 58.66666667, 40.66666667])"
      ]
     },
     "execution_count": 64,
     "metadata": {},
     "output_type": "execute_result"
    }
   ],
   "source": [
    "np.mean(a1,axis=1)"
   ]
  },
  {
   "cell_type": "markdown",
   "id": "5b9e333c",
   "metadata": {},
   "source": [
    "<h1 style=\"color:orange\">median()</h1>"
   ]
  },
  {
   "cell_type": "code",
   "execution_count": 65,
   "id": "86dad233",
   "metadata": {
    "scrolled": true
   },
   "outputs": [
    {
     "data": {
      "text/plain": [
       "array([77., 57., 48.])"
      ]
     },
     "execution_count": 65,
     "metadata": {},
     "output_type": "execute_result"
    }
   ],
   "source": [
    "np.median(a1,axis=1)"
   ]
  },
  {
   "cell_type": "code",
   "execution_count": 66,
   "id": "d1e9acd1",
   "metadata": {},
   "outputs": [
    {
     "data": {
      "text/plain": [
       "51.0"
      ]
     },
     "execution_count": 66,
     "metadata": {},
     "output_type": "execute_result"
    }
   ],
   "source": [
    "np.median(a1)"
   ]
  },
  {
   "cell_type": "markdown",
   "id": "76645fdd",
   "metadata": {},
   "source": [
    "<h1 style=\"color:orange\">std()</h1>"
   ]
  },
  {
   "cell_type": "code",
   "execution_count": 67,
   "id": "3db6756d",
   "metadata": {},
   "outputs": [
    {
     "data": {
      "text/plain": [
       "18.34847859269718"
      ]
     },
     "execution_count": 67,
     "metadata": {},
     "output_type": "execute_result"
    }
   ],
   "source": [
    "np.std(a1)"
   ]
  },
  {
   "cell_type": "code",
   "execution_count": 68,
   "id": "cfbd0152",
   "metadata": {},
   "outputs": [
    {
     "data": {
      "text/plain": [
       "array([10.98483804, 23.29997616, 10.78064109])"
      ]
     },
     "execution_count": 68,
     "metadata": {},
     "output_type": "execute_result"
    }
   ],
   "source": [
    "#colume WISE\n",
    "np.std(a1,axis=0)"
   ]
  },
  {
   "cell_type": "markdown",
   "id": "d063f0bf",
   "metadata": {},
   "source": [
    "<h1 style=\"color:blue;font-size:30px\">trignometry function</h1>"
   ]
  },
  {
   "cell_type": "markdown",
   "id": "14e10a39",
   "metadata": {},
   "source": [
    "<h1 style=\"color:orange\">sin()</h1>"
   ]
  },
  {
   "cell_type": "code",
   "execution_count": 69,
   "id": "a3ae6f09",
   "metadata": {
    "scrolled": true
   },
   "outputs": [
    {
     "data": {
      "text/plain": [
       "array([[ 0.99952016, -0.99388865, -0.40403765],\n",
       "       [ 0.77389068, -0.95375265,  0.43616476],\n",
       "       [ 0.67022918, -0.8462204 , -0.76825466]])"
      ]
     },
     "execution_count": 69,
     "metadata": {},
     "output_type": "execute_result"
    }
   ],
   "source": [
    "np.sin(a1)"
   ]
  },
  {
   "cell_type": "markdown",
   "id": "aba3e74f",
   "metadata": {},
   "source": [
    "<h1 style=\"color:orange\">log()</h1>"
   ]
  },
  {
   "cell_type": "code",
   "execution_count": 70,
   "id": "e5749b1e",
   "metadata": {
    "scrolled": true
   },
   "outputs": [
    {
     "data": {
      "text/plain": [
       "array([[4.34380542, 4.38202663, 3.4339872 ],\n",
       "       [4.24849524, 3.8918203 , 4.04305127],\n",
       "       [3.93182563, 3.13549422, 3.87120101]])"
      ]
     },
     "execution_count": 70,
     "metadata": {},
     "output_type": "execute_result"
    }
   ],
   "source": [
    "np.log(a1)"
   ]
  },
  {
   "cell_type": "code",
   "execution_count": 71,
   "id": "86e02e67",
   "metadata": {},
   "outputs": [],
   "source": [
    "a2 = np.arange(12).reshape(3,4)\n",
    "a3 = np.arange(12,24).reshape(4,3)"
   ]
  },
  {
   "cell_type": "markdown",
   "id": "6768fe0a",
   "metadata": {},
   "source": [
    "<h1 style=\"color:orange\">dot()</h1>"
   ]
  },
  {
   "cell_type": "code",
   "execution_count": 72,
   "id": "6fb20dfa",
   "metadata": {
    "scrolled": true
   },
   "outputs": [
    {
     "data": {
      "text/plain": [
       "array([[114, 120, 126],\n",
       "       [378, 400, 422],\n",
       "       [642, 680, 718]])"
      ]
     },
     "execution_count": 72,
     "metadata": {},
     "output_type": "execute_result"
    }
   ],
   "source": [
    "a2.dot(a3)"
   ]
  },
  {
   "cell_type": "markdown",
   "id": "f439f5ee",
   "metadata": {},
   "source": [
    "<h1 style=\"color:orange\">exp()</h1>"
   ]
  },
  {
   "cell_type": "code",
   "execution_count": 73,
   "id": "aa0aa217",
   "metadata": {
    "scrolled": true
   },
   "outputs": [
    {
     "data": {
      "text/plain": [
       "array([[1.62754791e+05, 4.42413392e+05, 1.20260428e+06],\n",
       "       [3.26901737e+06, 8.88611052e+06, 2.41549528e+07],\n",
       "       [6.56599691e+07, 1.78482301e+08, 4.85165195e+08],\n",
       "       [1.31881573e+09, 3.58491285e+09, 9.74480345e+09]])"
      ]
     },
     "execution_count": 73,
     "metadata": {},
     "output_type": "execute_result"
    }
   ],
   "source": [
    "np.exp(a3)"
   ]
  },
  {
   "cell_type": "markdown",
   "id": "b0507be3",
   "metadata": {},
   "source": [
    "<h1 style=\"color:orange\">round()</h1>"
   ]
  },
  {
   "cell_type": "code",
   "execution_count": 74,
   "id": "4b656298",
   "metadata": {},
   "outputs": [
    {
     "data": {
      "text/plain": [
       "array([[49., 32., 67.],\n",
       "       [69., 78., 56.]])"
      ]
     },
     "execution_count": 74,
     "metadata": {},
     "output_type": "execute_result"
    }
   ],
   "source": [
    "np.round(np.random.random((2,3))*100)"
   ]
  },
  {
   "cell_type": "markdown",
   "id": "0fed094e",
   "metadata": {},
   "source": [
    "<h1 style=\"color:orange\">floor()</h1>"
   ]
  },
  {
   "cell_type": "code",
   "execution_count": 75,
   "id": "1ed03192",
   "metadata": {},
   "outputs": [
    {
     "data": {
      "text/plain": [
       "array([[31.,  7., 96.],\n",
       "       [54., 16., 28.]])"
      ]
     },
     "execution_count": 75,
     "metadata": {},
     "output_type": "execute_result"
    }
   ],
   "source": [
    "#piche wala integer\n",
    "np.floor(np.random.random((2,3))*100)"
   ]
  },
  {
   "cell_type": "markdown",
   "id": "d2169c6c",
   "metadata": {},
   "source": [
    "<h1 style=\"color:orange\">ceil()</h1>"
   ]
  },
  {
   "cell_type": "code",
   "execution_count": 76,
   "id": "bb94b777",
   "metadata": {},
   "outputs": [
    {
     "data": {
      "text/plain": [
       "array([[98., 83., 38.],\n",
       "       [45., 87.,  9.]])"
      ]
     },
     "execution_count": 76,
     "metadata": {},
     "output_type": "execute_result"
    }
   ],
   "source": [
    "#aage wala integer\n",
    "np.ceil(np.random.random((2,3))*100)"
   ]
  },
  {
   "cell_type": "markdown",
   "id": "dd989ae4",
   "metadata": {},
   "source": [
    "<h1 style=\"color:blue;font-size:30px\">Indexing & Slicing</h1>"
   ]
  },
  {
   "cell_type": "code",
   "execution_count": 77,
   "id": "2e823968",
   "metadata": {},
   "outputs": [],
   "source": [
    "a1 = np.arange(10)\n",
    "a2 = np.arange(12).reshape(3,4)\n",
    "a3 = np.arange(8).reshape(2,2,2)"
   ]
  },
  {
   "cell_type": "code",
   "execution_count": 78,
   "id": "497804e6",
   "metadata": {},
   "outputs": [
    {
     "data": {
      "text/plain": [
       "9"
      ]
     },
     "execution_count": 78,
     "metadata": {},
     "output_type": "execute_result"
    }
   ],
   "source": [
    "#right to left\n",
    "a1[-1]"
   ]
  },
  {
   "cell_type": "code",
   "execution_count": 79,
   "id": "5a76af2e",
   "metadata": {},
   "outputs": [
    {
     "data": {
      "text/plain": [
       "0"
      ]
     },
     "execution_count": 79,
     "metadata": {},
     "output_type": "execute_result"
    }
   ],
   "source": [
    "#left to right\n",
    "a1[0]"
   ]
  },
  {
   "cell_type": "code",
   "execution_count": 80,
   "id": "435b5f70",
   "metadata": {},
   "outputs": [
    {
     "data": {
      "text/plain": [
       "array([[ 0,  1,  2,  3],\n",
       "       [ 4,  5,  6,  7],\n",
       "       [ 8,  9, 10, 11]])"
      ]
     },
     "execution_count": 80,
     "metadata": {},
     "output_type": "execute_result"
    }
   ],
   "source": [
    "a2"
   ]
  },
  {
   "cell_type": "code",
   "execution_count": 81,
   "id": "a5460d67",
   "metadata": {},
   "outputs": [
    {
     "data": {
      "text/plain": [
       "6"
      ]
     },
     "execution_count": 81,
     "metadata": {},
     "output_type": "execute_result"
    }
   ],
   "source": [
    "a2[1,2]"
   ]
  },
  {
   "cell_type": "code",
   "execution_count": 82,
   "id": "d618f98c",
   "metadata": {},
   "outputs": [
    {
     "data": {
      "text/plain": [
       "11"
      ]
     },
     "execution_count": 82,
     "metadata": {},
     "output_type": "execute_result"
    }
   ],
   "source": [
    "a2[2,3]"
   ]
  },
  {
   "cell_type": "code",
   "execution_count": 83,
   "id": "a1feb799",
   "metadata": {},
   "outputs": [
    {
     "data": {
      "text/plain": [
       "array([[[0, 1],\n",
       "        [2, 3]],\n",
       "\n",
       "       [[4, 5],\n",
       "        [6, 7]]])"
      ]
     },
     "execution_count": 83,
     "metadata": {},
     "output_type": "execute_result"
    }
   ],
   "source": [
    "a3"
   ]
  },
  {
   "cell_type": "code",
   "execution_count": 84,
   "id": "19c297fd",
   "metadata": {},
   "outputs": [
    {
     "data": {
      "text/plain": [
       "5"
      ]
     },
     "execution_count": 84,
     "metadata": {},
     "output_type": "execute_result"
    }
   ],
   "source": [
    "a3[1,0,1]"
   ]
  },
  {
   "cell_type": "code",
   "execution_count": 85,
   "id": "61c64abb",
   "metadata": {},
   "outputs": [
    {
     "data": {
      "text/plain": [
       "2"
      ]
     },
     "execution_count": 85,
     "metadata": {},
     "output_type": "execute_result"
    }
   ],
   "source": [
    "a3[0,1,0]"
   ]
  },
  {
   "cell_type": "code",
   "execution_count": 86,
   "id": "68026ec0",
   "metadata": {},
   "outputs": [
    {
     "data": {
      "text/plain": [
       "array([2, 3, 4])"
      ]
     },
     "execution_count": 86,
     "metadata": {},
     "output_type": "execute_result"
    }
   ],
   "source": [
    "a1[2:5]"
   ]
  },
  {
   "cell_type": "code",
   "execution_count": 87,
   "id": "abb42541",
   "metadata": {},
   "outputs": [
    {
     "data": {
      "text/plain": [
       "array([0, 1, 2, 3])"
      ]
     },
     "execution_count": 87,
     "metadata": {},
     "output_type": "execute_result"
    }
   ],
   "source": [
    "a2[0,:]"
   ]
  },
  {
   "cell_type": "code",
   "execution_count": 88,
   "id": "4b999c4f",
   "metadata": {},
   "outputs": [
    {
     "data": {
      "text/plain": [
       "array([ 2,  6, 10])"
      ]
     },
     "execution_count": 88,
     "metadata": {},
     "output_type": "execute_result"
    }
   ],
   "source": [
    "a2[:,2]"
   ]
  },
  {
   "cell_type": "code",
   "execution_count": 89,
   "id": "66adb5dd",
   "metadata": {},
   "outputs": [
    {
     "data": {
      "text/plain": [
       "array([[ 5,  6],\n",
       "       [ 9, 10]])"
      ]
     },
     "execution_count": 89,
     "metadata": {},
     "output_type": "execute_result"
    }
   ],
   "source": [
    "a2[1:3,1:3]"
   ]
  },
  {
   "cell_type": "code",
   "execution_count": 90,
   "id": "edabf72b",
   "metadata": {},
   "outputs": [
    {
     "data": {
      "text/plain": [
       "array([[ 5,  6],\n",
       "       [ 9, 10]])"
      ]
     },
     "execution_count": 90,
     "metadata": {},
     "output_type": "execute_result"
    }
   ],
   "source": [
    "a2[1:,1:3]"
   ]
  },
  {
   "cell_type": "code",
   "execution_count": 91,
   "id": "849f0176",
   "metadata": {},
   "outputs": [
    {
     "data": {
      "text/plain": [
       "array([[ 0,  3],\n",
       "       [ 8, 11]])"
      ]
     },
     "execution_count": 91,
     "metadata": {},
     "output_type": "execute_result"
    }
   ],
   "source": [
    "a2[::2,::3]"
   ]
  },
  {
   "cell_type": "code",
   "execution_count": 92,
   "id": "4a34c6d7",
   "metadata": {},
   "outputs": [
    {
     "data": {
      "text/plain": [
       "array([[ 1,  3],\n",
       "       [ 9, 11]])"
      ]
     },
     "execution_count": 92,
     "metadata": {},
     "output_type": "execute_result"
    }
   ],
   "source": [
    "a2[::2,1::2]"
   ]
  },
  {
   "cell_type": "code",
   "execution_count": 93,
   "id": "f63b10a8",
   "metadata": {},
   "outputs": [],
   "source": [
    "a3=np.arange(27).reshape(3,3,3)"
   ]
  },
  {
   "cell_type": "code",
   "execution_count": 94,
   "id": "756a501b",
   "metadata": {},
   "outputs": [
    {
     "data": {
      "text/plain": [
       "array([[[ 0,  1,  2],\n",
       "        [ 3,  4,  5],\n",
       "        [ 6,  7,  8]],\n",
       "\n",
       "       [[ 9, 10, 11],\n",
       "        [12, 13, 14],\n",
       "        [15, 16, 17]],\n",
       "\n",
       "       [[18, 19, 20],\n",
       "        [21, 22, 23],\n",
       "        [24, 25, 26]]])"
      ]
     },
     "execution_count": 94,
     "metadata": {},
     "output_type": "execute_result"
    }
   ],
   "source": [
    "a3"
   ]
  },
  {
   "cell_type": "code",
   "execution_count": 95,
   "id": "50ea8722",
   "metadata": {},
   "outputs": [
    {
     "data": {
      "text/plain": [
       "array([[ 9, 10, 11],\n",
       "       [12, 13, 14],\n",
       "       [15, 16, 17]])"
      ]
     },
     "execution_count": 95,
     "metadata": {},
     "output_type": "execute_result"
    }
   ],
   "source": [
    "a3[1]"
   ]
  },
  {
   "cell_type": "code",
   "execution_count": 96,
   "id": "537b15be",
   "metadata": {},
   "outputs": [
    {
     "data": {
      "text/plain": [
       "13"
      ]
     },
     "execution_count": 96,
     "metadata": {},
     "output_type": "execute_result"
    }
   ],
   "source": [
    "a3[1][1][1]"
   ]
  },
  {
   "cell_type": "code",
   "execution_count": 97,
   "id": "9e1a7e0f",
   "metadata": {},
   "outputs": [
    {
     "data": {
      "text/plain": [
       "array([[[ 0,  1,  2],\n",
       "        [ 3,  4,  5],\n",
       "        [ 6,  7,  8]],\n",
       "\n",
       "       [[18, 19, 20],\n",
       "        [21, 22, 23],\n",
       "        [24, 25, 26]]])"
      ]
     },
     "execution_count": 97,
     "metadata": {},
     "output_type": "execute_result"
    }
   ],
   "source": [
    "a3[::2]"
   ]
  },
  {
   "cell_type": "code",
   "execution_count": 98,
   "id": "8c9c0f27",
   "metadata": {},
   "outputs": [
    {
     "data": {
      "text/plain": [
       "array([3, 4, 5])"
      ]
     },
     "execution_count": 98,
     "metadata": {},
     "output_type": "execute_result"
    }
   ],
   "source": [
    "a3[0][1,:]"
   ]
  },
  {
   "cell_type": "code",
   "execution_count": 99,
   "id": "56085955",
   "metadata": {},
   "outputs": [
    {
     "data": {
      "text/plain": [
       "array([3, 4, 5])"
      ]
     },
     "execution_count": 99,
     "metadata": {},
     "output_type": "execute_result"
    }
   ],
   "source": [
    "a3[0,1,:]"
   ]
  },
  {
   "cell_type": "code",
   "execution_count": 100,
   "id": "df9566be",
   "metadata": {},
   "outputs": [
    {
     "data": {
      "text/plain": [
       "array([10, 13, 16])"
      ]
     },
     "execution_count": 100,
     "metadata": {},
     "output_type": "execute_result"
    }
   ],
   "source": [
    "a3[1,:,1]"
   ]
  },
  {
   "cell_type": "code",
   "execution_count": 101,
   "id": "52edaa64",
   "metadata": {},
   "outputs": [
    {
     "data": {
      "text/plain": [
       "array([[22, 23],\n",
       "       [25, 26]])"
      ]
     },
     "execution_count": 101,
     "metadata": {},
     "output_type": "execute_result"
    }
   ],
   "source": [
    "a3[2,1:,1:]"
   ]
  },
  {
   "cell_type": "code",
   "execution_count": 102,
   "id": "4902b1d0",
   "metadata": {},
   "outputs": [
    {
     "data": {
      "text/plain": [
       "array([[ 0,  2],\n",
       "       [18, 20]])"
      ]
     },
     "execution_count": 102,
     "metadata": {},
     "output_type": "execute_result"
    }
   ],
   "source": [
    "a3[::2,0,::2]"
   ]
  },
  {
   "cell_type": "markdown",
   "id": "2309a721",
   "metadata": {},
   "source": [
    "<h1 style=\"color:blue;font-size:30px\">Iteration</h1>"
   ]
  },
  {
   "cell_type": "code",
   "execution_count": 103,
   "id": "7d7097a9",
   "metadata": {},
   "outputs": [
    {
     "name": "stdout",
     "output_type": "stream",
     "text": [
      "0 1 2 3 4 5 6 7 8 9 "
     ]
    }
   ],
   "source": [
    "a1\n",
    "for i in a1:\n",
    "    print(i,end=' ')"
   ]
  },
  {
   "cell_type": "code",
   "execution_count": 104,
   "id": "dadddffa",
   "metadata": {},
   "outputs": [
    {
     "name": "stdout",
     "output_type": "stream",
     "text": [
      "[0 1 2 3] [4 5 6 7] [ 8  9 10 11] "
     ]
    }
   ],
   "source": [
    "for i in a2:\n",
    "    print(i,end=' ')"
   ]
  },
  {
   "cell_type": "code",
   "execution_count": 105,
   "id": "c9df41a9",
   "metadata": {},
   "outputs": [
    {
     "name": "stdout",
     "output_type": "stream",
     "text": [
      "[[0 1 2]\n",
      " [3 4 5]\n",
      " [6 7 8]] [[ 9 10 11]\n",
      " [12 13 14]\n",
      " [15 16 17]] [[18 19 20]\n",
      " [21 22 23]\n",
      " [24 25 26]] "
     ]
    }
   ],
   "source": [
    "for i in a3:\n",
    "    print(i,end=' ')"
   ]
  },
  {
   "cell_type": "code",
   "execution_count": 106,
   "id": "4eea2731",
   "metadata": {},
   "outputs": [
    {
     "name": "stdout",
     "output_type": "stream",
     "text": [
      "0 1 2 3 4 5 6 7 8 9 10 11 12 13 14 15 16 17 18 19 20 21 22 23 24 25 26 "
     ]
    }
   ],
   "source": [
    "for i in a3:\n",
    "    for j in i:\n",
    "        for k in j:\n",
    "            print(k,end=' ')"
   ]
  },
  {
   "cell_type": "code",
   "execution_count": 107,
   "id": "9556cfbc",
   "metadata": {},
   "outputs": [
    {
     "name": "stdout",
     "output_type": "stream",
     "text": [
      "0 1 2 3 4 5 6 7 8 9 10 11 12 13 14 15 16 17 18 19 20 21 22 23 24 25 26 "
     ]
    }
   ],
   "source": [
    "for i in np.nditer(a3):\n",
    "    print(i,end=' ')"
   ]
  },
  {
   "cell_type": "markdown",
   "id": "69cffad0",
   "metadata": {},
   "source": [
    "<h1 style=\"color:blue;font-size:30px\">Reshaping</h1>"
   ]
  },
  {
   "cell_type": "code",
   "execution_count": 108,
   "id": "ea87e23f",
   "metadata": {},
   "outputs": [
    {
     "data": {
      "text/plain": [
       "array([[ 0,  1,  2,  3],\n",
       "       [ 4,  5,  6,  7],\n",
       "       [ 8,  9, 10, 11]])"
      ]
     },
     "execution_count": 108,
     "metadata": {},
     "output_type": "execute_result"
    }
   ],
   "source": [
    "a2"
   ]
  },
  {
   "cell_type": "markdown",
   "id": "c2eb18ae",
   "metadata": {},
   "source": [
    "<h1 style=\"color:orange\">reshape()</h1>"
   ]
  },
  {
   "cell_type": "code",
   "execution_count": 109,
   "id": "4729fbd1",
   "metadata": {
    "scrolled": true
   },
   "outputs": [
    {
     "data": {
      "text/plain": [
       "array([[ 0,  1,  2],\n",
       "       [ 3,  4,  5],\n",
       "       [ 6,  7,  8],\n",
       "       [ 9, 10, 11]])"
      ]
     },
     "execution_count": 109,
     "metadata": {},
     "output_type": "execute_result"
    }
   ],
   "source": [
    "a2.reshape(4,3)"
   ]
  },
  {
   "cell_type": "markdown",
   "id": "b3863782",
   "metadata": {},
   "source": [
    "<h1 style=\"color:orange\">transpose</h1>"
   ]
  },
  {
   "cell_type": "code",
   "execution_count": 110,
   "id": "66f3db50",
   "metadata": {},
   "outputs": [
    {
     "data": {
      "text/plain": [
       "array([[ 0,  4,  8],\n",
       "       [ 1,  5,  9],\n",
       "       [ 2,  6, 10],\n",
       "       [ 3,  7, 11]])"
      ]
     },
     "execution_count": 110,
     "metadata": {},
     "output_type": "execute_result"
    }
   ],
   "source": [
    "a2.T"
   ]
  },
  {
   "cell_type": "code",
   "execution_count": 111,
   "id": "39501b11",
   "metadata": {},
   "outputs": [
    {
     "data": {
      "text/plain": [
       "array([[ 0,  4,  8],\n",
       "       [ 1,  5,  9],\n",
       "       [ 2,  6, 10],\n",
       "       [ 3,  7, 11]])"
      ]
     },
     "execution_count": 111,
     "metadata": {},
     "output_type": "execute_result"
    }
   ],
   "source": [
    "np.transpose(a2)"
   ]
  },
  {
   "cell_type": "code",
   "execution_count": 112,
   "id": "827473d8",
   "metadata": {},
   "outputs": [
    {
     "data": {
      "text/plain": [
       "array([[ 0,  1,  2,  3],\n",
       "       [ 4,  5,  6,  7],\n",
       "       [ 8,  9, 10, 11]])"
      ]
     },
     "execution_count": 112,
     "metadata": {},
     "output_type": "execute_result"
    }
   ],
   "source": [
    "a2"
   ]
  },
  {
   "cell_type": "markdown",
   "id": "6afd54b2",
   "metadata": {},
   "source": [
    "<h1 style=\"color:orange\">ravel()</h1>"
   ]
  },
  {
   "cell_type": "code",
   "execution_count": 113,
   "id": "8ab5811e",
   "metadata": {},
   "outputs": [
    {
     "data": {
      "text/plain": [
       "array([ 0,  1,  2,  3,  4,  5,  6,  7,  8,  9, 10, 11])"
      ]
     },
     "execution_count": 113,
     "metadata": {},
     "output_type": "execute_result"
    }
   ],
   "source": [
    "a2.ravel()"
   ]
  },
  {
   "cell_type": "code",
   "execution_count": 114,
   "id": "a4855b2d",
   "metadata": {},
   "outputs": [
    {
     "data": {
      "text/plain": [
       "array([ 0,  1,  2,  3,  4,  5,  6,  7,  8,  9, 10, 11, 12, 13, 14, 15, 16,\n",
       "       17, 18, 19, 20, 21, 22, 23, 24, 25, 26])"
      ]
     },
     "execution_count": 114,
     "metadata": {},
     "output_type": "execute_result"
    }
   ],
   "source": [
    "a3.ravel()"
   ]
  },
  {
   "cell_type": "markdown",
   "id": "94bc6c09",
   "metadata": {},
   "source": [
    "<h1 style=\"color:blue;font-size:30px\">Stacking</h1>"
   ]
  },
  {
   "cell_type": "markdown",
   "id": "09e84079",
   "metadata": {},
   "source": [
    "<h1 style=\"color:orange\">horizontal stacking</h1>"
   ]
  },
  {
   "cell_type": "code",
   "execution_count": 115,
   "id": "34843d6d",
   "metadata": {},
   "outputs": [
    {
     "data": {
      "text/plain": [
       "array([[ 0,  1,  2,  3, 12, 13, 14, 15],\n",
       "       [ 4,  5,  6,  7, 16, 17, 18, 19],\n",
       "       [ 8,  9, 10, 11, 20, 21, 22, 23]])"
      ]
     },
     "execution_count": 115,
     "metadata": {},
     "output_type": "execute_result"
    }
   ],
   "source": [
    "a4 = np.arange(12).reshape(3,4)\n",
    "a5 = np.arange(12,24).reshape(3,4)\n",
    "np.hstack((a4,a5))"
   ]
  },
  {
   "cell_type": "markdown",
   "id": "86b4619c",
   "metadata": {},
   "source": [
    "<h1 style=\"color:orange\">vertical stacking</h1>"
   ]
  },
  {
   "cell_type": "code",
   "execution_count": 116,
   "id": "edb60127",
   "metadata": {},
   "outputs": [
    {
     "data": {
      "text/plain": [
       "array([[ 0,  1,  2,  3],\n",
       "       [ 4,  5,  6,  7],\n",
       "       [ 8,  9, 10, 11],\n",
       "       [12, 13, 14, 15],\n",
       "       [16, 17, 18, 19],\n",
       "       [20, 21, 22, 23]])"
      ]
     },
     "execution_count": 116,
     "metadata": {},
     "output_type": "execute_result"
    }
   ],
   "source": [
    "np.vstack((a4,a5))"
   ]
  },
  {
   "cell_type": "markdown",
   "id": "c05cb57a",
   "metadata": {},
   "source": [
    "<h1 style=\"color:blue;font-size:30px\">Splitting</h1>"
   ]
  },
  {
   "cell_type": "markdown",
   "id": "6a9fa599",
   "metadata": {},
   "source": [
    "<h1 style=\"color:orange\">horizontal splitting</h1>"
   ]
  },
  {
   "cell_type": "code",
   "execution_count": 117,
   "id": "d2aed2ca",
   "metadata": {},
   "outputs": [
    {
     "data": {
      "text/plain": [
       "array([[ 0,  1,  2,  3],\n",
       "       [ 4,  5,  6,  7],\n",
       "       [ 8,  9, 10, 11]])"
      ]
     },
     "execution_count": 117,
     "metadata": {},
     "output_type": "execute_result"
    }
   ],
   "source": [
    "a4"
   ]
  },
  {
   "cell_type": "code",
   "execution_count": 118,
   "id": "0badd525",
   "metadata": {},
   "outputs": [
    {
     "data": {
      "text/plain": [
       "[array([[0, 1],\n",
       "        [4, 5],\n",
       "        [8, 9]]),\n",
       " array([[ 2,  3],\n",
       "        [ 6,  7],\n",
       "        [10, 11]])]"
      ]
     },
     "execution_count": 118,
     "metadata": {},
     "output_type": "execute_result"
    }
   ],
   "source": [
    "np.hsplit(a4,2)"
   ]
  },
  {
   "cell_type": "code",
   "execution_count": 119,
   "id": "a56630e8",
   "metadata": {},
   "outputs": [
    {
     "data": {
      "text/plain": [
       "[array([[0],\n",
       "        [4],\n",
       "        [8]]),\n",
       " array([[1],\n",
       "        [5],\n",
       "        [9]]),\n",
       " array([[ 2],\n",
       "        [ 6],\n",
       "        [10]]),\n",
       " array([[ 3],\n",
       "        [ 7],\n",
       "        [11]])]"
      ]
     },
     "execution_count": 119,
     "metadata": {},
     "output_type": "execute_result"
    }
   ],
   "source": [
    "np.hsplit(a4,4)"
   ]
  },
  {
   "cell_type": "markdown",
   "id": "0cf7a742",
   "metadata": {},
   "source": [
    "<h1 style=\"color:orange\">vertical split</h1>"
   ]
  },
  {
   "cell_type": "code",
   "execution_count": 120,
   "id": "8bcb3644",
   "metadata": {},
   "outputs": [
    {
     "data": {
      "text/plain": [
       "[array([[12, 13, 14, 15]]),\n",
       " array([[16, 17, 18, 19]]),\n",
       " array([[20, 21, 22, 23]])]"
      ]
     },
     "execution_count": 120,
     "metadata": {},
     "output_type": "execute_result"
    }
   ],
   "source": [
    "np.vsplit(a5,3)"
   ]
  },
  {
   "cell_type": "code",
   "execution_count": null,
   "id": "e75dc077",
   "metadata": {},
   "outputs": [],
   "source": []
  }
 ],
 "metadata": {
  "kernelspec": {
   "display_name": "Python 3 (ipykernel)",
   "language": "python",
   "name": "python3"
  },
  "language_info": {
   "codemirror_mode": {
    "name": "ipython",
    "version": 3
   },
   "file_extension": ".py",
   "mimetype": "text/x-python",
   "name": "python",
   "nbconvert_exporter": "python",
   "pygments_lexer": "ipython3",
   "version": "3.9.13"
  }
 },
 "nbformat": 4,
 "nbformat_minor": 5
}
