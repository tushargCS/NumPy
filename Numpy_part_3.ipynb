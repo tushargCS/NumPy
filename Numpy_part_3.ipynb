{
 "cells": [
  {
   "cell_type": "markdown",
   "id": "0b110ff3",
   "metadata": {},
   "source": [
    "# np.sort"
   ]
  },
  {
   "cell_type": "code",
   "execution_count": 2,
   "id": "d7d480d7",
   "metadata": {},
   "outputs": [
    {
     "data": {
      "text/plain": [
       "array([99, 73, 80, 17, 60, 94, 69, 82, 15, 70, 91, 47, 22, 71, 94])"
      ]
     },
     "execution_count": 2,
     "metadata": {},
     "output_type": "execute_result"
    }
   ],
   "source": [
    "import numpy as np\n",
    "a = np.random.randint(1,100,15)\n",
    "a"
   ]
  },
  {
   "cell_type": "code",
   "execution_count": 3,
   "id": "b0dba0da",
   "metadata": {},
   "outputs": [
    {
     "data": {
      "text/plain": [
       "array([[76, 70, 93, 85],\n",
       "       [89, 37, 66, 57],\n",
       "       [88, 32, 76,  8],\n",
       "       [75, 82, 33, 64],\n",
       "       [54, 16, 13, 64],\n",
       "       [10, 88, 62, 67]])"
      ]
     },
     "execution_count": 3,
     "metadata": {},
     "output_type": "execute_result"
    }
   ],
   "source": [
    "b= np.random.randint(1,100,24).reshape(6,4)\n",
    "b"
   ]
  },
  {
   "cell_type": "code",
   "execution_count": 4,
   "id": "c1c8507b",
   "metadata": {},
   "outputs": [
    {
     "data": {
      "text/plain": [
       "array([15, 17, 22, 47, 60, 69, 70, 71, 73, 80, 82, 91, 94, 94, 99])"
      ]
     },
     "execution_count": 4,
     "metadata": {},
     "output_type": "execute_result"
    }
   ],
   "source": [
    "np.sort(a)"
   ]
  },
  {
   "cell_type": "code",
   "execution_count": 5,
   "id": "f5a4cdf8",
   "metadata": {},
   "outputs": [
    {
     "data": {
      "text/plain": [
       "array([[70, 76, 85, 93],\n",
       "       [37, 57, 66, 89],\n",
       "       [ 8, 32, 76, 88],\n",
       "       [33, 64, 75, 82],\n",
       "       [13, 16, 54, 64],\n",
       "       [10, 62, 67, 88]])"
      ]
     },
     "execution_count": 5,
     "metadata": {},
     "output_type": "execute_result"
    }
   ],
   "source": [
    "np.sort(b)"
   ]
  },
  {
   "cell_type": "code",
   "execution_count": 6,
   "id": "5be2a0d3",
   "metadata": {},
   "outputs": [
    {
     "data": {
      "text/plain": [
       "array([15, 17, 22, 47, 60, 69, 70, 71, 73, 80, 82, 91, 94, 94, 99])"
      ]
     },
     "execution_count": 6,
     "metadata": {},
     "output_type": "execute_result"
    }
   ],
   "source": [
    "np.sort(a,kind=\"mergesort\")"
   ]
  },
  {
   "cell_type": "code",
   "execution_count": 7,
   "id": "0eb51701",
   "metadata": {},
   "outputs": [
    {
     "data": {
      "text/plain": [
       "array([[10, 16, 13,  8],\n",
       "       [54, 32, 33, 57],\n",
       "       [75, 37, 62, 64],\n",
       "       [76, 70, 66, 64],\n",
       "       [88, 82, 76, 67],\n",
       "       [89, 88, 93, 85]])"
      ]
     },
     "execution_count": 7,
     "metadata": {},
     "output_type": "execute_result"
    }
   ],
   "source": [
    "#column wise sorting\n",
    "np.sort(b,axis=0)"
   ]
  },
  {
   "cell_type": "code",
   "execution_count": 8,
   "id": "72b20585",
   "metadata": {},
   "outputs": [
    {
     "data": {
      "text/plain": [
       "array([99, 94, 94, 91, 82, 80, 73, 71, 70, 69, 60, 47, 22, 17, 15])"
      ]
     },
     "execution_count": 8,
     "metadata": {},
     "output_type": "execute_result"
    }
   ],
   "source": [
    "#for reverse sorting\n",
    "np.sort(a)[::-1]"
   ]
  },
  {
   "cell_type": "markdown",
   "id": "e92bd098",
   "metadata": {},
   "source": [
    "# np.append"
   ]
  },
  {
   "cell_type": "code",
   "execution_count": 9,
   "id": "a3c9bd1f",
   "metadata": {},
   "outputs": [
    {
     "data": {
      "text/plain": [
       "array([99, 73, 80, 17, 60, 94, 69, 82, 15, 70, 91, 47, 22, 71, 94])"
      ]
     },
     "execution_count": 9,
     "metadata": {},
     "output_type": "execute_result"
    }
   ],
   "source": [
    "a"
   ]
  },
  {
   "cell_type": "code",
   "execution_count": 10,
   "id": "261b0a56",
   "metadata": {},
   "outputs": [
    {
     "data": {
      "text/plain": [
       "array([  99,   73,   80,   17,   60,   94,   69,   82,   15,   70,   91,\n",
       "         47,   22,   71,   94, 1200])"
      ]
     },
     "execution_count": 10,
     "metadata": {},
     "output_type": "execute_result"
    }
   ],
   "source": [
    "np.append(a,1200)"
   ]
  },
  {
   "cell_type": "code",
   "execution_count": 11,
   "id": "6c1d145a",
   "metadata": {},
   "outputs": [
    {
     "data": {
      "text/plain": [
       "array([[76, 70, 93, 85],\n",
       "       [89, 37, 66, 57],\n",
       "       [88, 32, 76,  8],\n",
       "       [75, 82, 33, 64],\n",
       "       [54, 16, 13, 64],\n",
       "       [10, 88, 62, 67]])"
      ]
     },
     "execution_count": 11,
     "metadata": {},
     "output_type": "execute_result"
    }
   ],
   "source": [
    "b"
   ]
  },
  {
   "cell_type": "code",
   "execution_count": 12,
   "id": "8ce25438",
   "metadata": {},
   "outputs": [
    {
     "name": "stdout",
     "output_type": "stream",
     "text": [
      "[76 70 93 85 89 37 66 57 88 32 76  8 75 82 33 64 54 16 13 64 10 88 62 67\n",
      "  1  2  3  4]\n",
      "\n",
      "[76 70 93 85 89 37 66 57 88 32 76  8 75 82 33 64 54 16 13 64 10 88 62 67\n",
      "  1  2  3  4]\n"
     ]
    }
   ],
   "source": [
    "c=np.array([1,2,3,4])\n",
    "print(np.append(b,[1,2,3,4]))\n",
    "print()\n",
    "print(np.append(b,c))"
   ]
  },
  {
   "cell_type": "code",
   "execution_count": 13,
   "id": "18859eca",
   "metadata": {},
   "outputs": [
    {
     "data": {
      "text/plain": [
       "array([[1.],\n",
       "       [1.],\n",
       "       [1.],\n",
       "       [1.],\n",
       "       [1.],\n",
       "       [1.]])"
      ]
     },
     "execution_count": 13,
     "metadata": {},
     "output_type": "execute_result"
    }
   ],
   "source": [
    "np.ones((b.shape[0],1))"
   ]
  },
  {
   "cell_type": "code",
   "execution_count": 14,
   "id": "46122c0f",
   "metadata": {},
   "outputs": [
    {
     "data": {
      "text/plain": [
       "array([76., 70., 93., 85., 89., 37., 66., 57., 88., 32., 76.,  8., 75.,\n",
       "       82., 33., 64., 54., 16., 13., 64., 10., 88., 62., 67.,  1.,  1.,\n",
       "        1.,  1.,  1.,  1.])"
      ]
     },
     "execution_count": 14,
     "metadata": {},
     "output_type": "execute_result"
    }
   ],
   "source": [
    "np.append(b,np.ones((b.shape[0],1)))"
   ]
  },
  {
   "cell_type": "code",
   "execution_count": 15,
   "id": "0e5d2217",
   "metadata": {},
   "outputs": [
    {
     "data": {
      "text/plain": [
       "array([[76., 70., 93., 85.,  1.],\n",
       "       [89., 37., 66., 57.,  1.],\n",
       "       [88., 32., 76.,  8.,  1.],\n",
       "       [75., 82., 33., 64.,  1.],\n",
       "       [54., 16., 13., 64.,  1.],\n",
       "       [10., 88., 62., 67.,  1.]])"
      ]
     },
     "execution_count": 15,
     "metadata": {},
     "output_type": "execute_result"
    }
   ],
   "source": [
    "np.append(b,np.ones((b.shape[0],1)),axis=1)"
   ]
  },
  {
   "cell_type": "markdown",
   "id": "7be56d37",
   "metadata": {},
   "source": [
    "# np.concatenate"
   ]
  },
  {
   "cell_type": "code",
   "execution_count": 16,
   "id": "e5e48caa",
   "metadata": {},
   "outputs": [
    {
     "name": "stdout",
     "output_type": "stream",
     "text": [
      "[[0 1 2]\n",
      " [3 4 5]]\n",
      "\n",
      "[[ 6  7  8]\n",
      " [ 9 10 11]]\n"
     ]
    }
   ],
   "source": [
    "c= np.arange(6).reshape(2,3)\n",
    "d=np.arange(6,12).reshape(2,3)\n",
    "print(c)\n",
    "print()\n",
    "print(d)"
   ]
  },
  {
   "cell_type": "code",
   "execution_count": 17,
   "id": "6ec161a8",
   "metadata": {},
   "outputs": [
    {
     "data": {
      "text/plain": [
       "array([[ 0,  1,  2],\n",
       "       [ 3,  4,  5],\n",
       "       [ 6,  7,  8],\n",
       "       [ 9, 10, 11]])"
      ]
     },
     "execution_count": 17,
     "metadata": {},
     "output_type": "execute_result"
    }
   ],
   "source": [
    "np.concatenate((c,d))"
   ]
  },
  {
   "cell_type": "code",
   "execution_count": 18,
   "id": "b564bb74",
   "metadata": {},
   "outputs": [
    {
     "data": {
      "text/plain": [
       "array([[ 0,  1,  2],\n",
       "       [ 3,  4,  5],\n",
       "       [ 6,  7,  8],\n",
       "       [ 9, 10, 11]])"
      ]
     },
     "execution_count": 18,
     "metadata": {},
     "output_type": "execute_result"
    }
   ],
   "source": [
    "np.concatenate((c,d),axis=0)"
   ]
  },
  {
   "cell_type": "code",
   "execution_count": 19,
   "id": "243fe564",
   "metadata": {},
   "outputs": [
    {
     "data": {
      "text/plain": [
       "array([[ 0,  1,  2,  6,  7,  8],\n",
       "       [ 3,  4,  5,  9, 10, 11]])"
      ]
     },
     "execution_count": 19,
     "metadata": {},
     "output_type": "execute_result"
    }
   ],
   "source": [
    "np.concatenate((c,d),axis=1)"
   ]
  },
  {
   "cell_type": "markdown",
   "id": "6ad07097",
   "metadata": {},
   "source": [
    "# np.unique"
   ]
  },
  {
   "cell_type": "code",
   "execution_count": 20,
   "id": "ac7620bf",
   "metadata": {},
   "outputs": [
    {
     "data": {
      "text/plain": [
       "array([ 2,  3, 11, 33])"
      ]
     },
     "execution_count": 20,
     "metadata": {},
     "output_type": "execute_result"
    }
   ],
   "source": [
    "e=np.unique([11,2,2,2,33,3,33,11])\n",
    "np.unique(e)"
   ]
  },
  {
   "cell_type": "markdown",
   "id": "f314ef0a",
   "metadata": {},
   "source": [
    "np.expand_dims"
   ]
  },
  {
   "cell_type": "code",
   "execution_count": 21,
   "id": "45b4906c",
   "metadata": {},
   "outputs": [
    {
     "data": {
      "text/plain": [
       "array([99, 73, 80, 17, 60, 94, 69, 82, 15, 70, 91, 47, 22, 71, 94])"
      ]
     },
     "execution_count": 21,
     "metadata": {},
     "output_type": "execute_result"
    }
   ],
   "source": [
    "a"
   ]
  },
  {
   "cell_type": "code",
   "execution_count": 22,
   "id": "4ebaeb69",
   "metadata": {},
   "outputs": [
    {
     "data": {
      "text/plain": [
       "array([[99, 73, 80, 17, 60, 94, 69, 82, 15, 70, 91, 47, 22, 71, 94]])"
      ]
     },
     "execution_count": 22,
     "metadata": {},
     "output_type": "execute_result"
    }
   ],
   "source": [
    "v=np.expand_dims(a,axis=0)\n",
    "v"
   ]
  },
  {
   "cell_type": "code",
   "execution_count": 23,
   "id": "81c66c6f",
   "metadata": {},
   "outputs": [
    {
     "name": "stdout",
     "output_type": "stream",
     "text": [
      "1\n",
      "\n",
      "2\n"
     ]
    }
   ],
   "source": [
    "print(a.ndim)\n",
    "print()\n",
    "print(v.ndim)"
   ]
  },
  {
   "cell_type": "code",
   "execution_count": 24,
   "id": "7816fd95",
   "metadata": {},
   "outputs": [],
   "source": [
    "y = np.expand_dims(a,axis=1)"
   ]
  },
  {
   "cell_type": "code",
   "execution_count": 25,
   "id": "06d36f8d",
   "metadata": {},
   "outputs": [
    {
     "name": "stdout",
     "output_type": "stream",
     "text": [
      "1\n",
      "\n",
      "2\n"
     ]
    }
   ],
   "source": [
    "print(a.ndim)\n",
    "print()\n",
    "print(y.ndim)"
   ]
  },
  {
   "cell_type": "markdown",
   "id": "5e76c891",
   "metadata": {},
   "source": [
    "# np.where"
   ]
  },
  {
   "cell_type": "code",
   "execution_count": 26,
   "id": "1403ffa8",
   "metadata": {},
   "outputs": [
    {
     "data": {
      "text/plain": [
       "(array([ 0,  1,  2,  4,  5,  6,  7,  9, 10, 13, 14]),)"
      ]
     },
     "execution_count": 26,
     "metadata": {},
     "output_type": "execute_result"
    }
   ],
   "source": [
    "#find all indices with values greater than 50\n",
    "np.where(a>50)"
   ]
  },
  {
   "cell_type": "code",
   "execution_count": 27,
   "id": "6ae1c65a",
   "metadata": {},
   "outputs": [
    {
     "data": {
      "text/plain": [
       "array([99, 73, 80, 60, 94, 69, 82, 70, 91, 71, 94])"
      ]
     },
     "execution_count": 27,
     "metadata": {},
     "output_type": "execute_result"
    }
   ],
   "source": [
    "c=a[a>50]\n",
    "c"
   ]
  },
  {
   "cell_type": "code",
   "execution_count": 28,
   "id": "d74d4d89",
   "metadata": {},
   "outputs": [
    {
     "data": {
      "text/plain": [
       "array([ 0,  0,  0, 17,  0,  0,  0,  0, 15,  0,  0, 47, 22,  0,  0])"
      ]
     },
     "execution_count": 28,
     "metadata": {},
     "output_type": "execute_result"
    }
   ],
   "source": [
    "#replace all values > 50 with 0\n",
    "np.where(a>50,0,a)"
   ]
  },
  {
   "cell_type": "code",
   "execution_count": 29,
   "id": "78eef659",
   "metadata": {},
   "outputs": [
    {
     "name": "stdout",
     "output_type": "stream",
     "text": [
      "[99 73 80 17 60 94 69 82 15 70 91 47 22 71 94]\n",
      "\n"
     ]
    },
    {
     "data": {
      "text/plain": [
       "array([99, 73,  0, 17,  0,  0, 69,  0, 15,  0, 91, 47,  0, 71,  0])"
      ]
     },
     "execution_count": 29,
     "metadata": {},
     "output_type": "execute_result"
    }
   ],
   "source": [
    "print(a)\n",
    "print()\n",
    "np.where(a%2==0,0,a)"
   ]
  },
  {
   "cell_type": "markdown",
   "id": "0a8b7d09",
   "metadata": {},
   "source": [
    "# np.argmax()"
   ]
  },
  {
   "cell_type": "code",
   "execution_count": 30,
   "id": "e76806c8",
   "metadata": {},
   "outputs": [
    {
     "data": {
      "text/plain": [
       "array([99, 73, 80, 17, 60, 94, 69, 82, 15, 70, 91, 47, 22, 71, 94])"
      ]
     },
     "execution_count": 30,
     "metadata": {},
     "output_type": "execute_result"
    }
   ],
   "source": [
    "a"
   ]
  },
  {
   "cell_type": "code",
   "execution_count": 31,
   "id": "6d9a7121",
   "metadata": {},
   "outputs": [
    {
     "name": "stdout",
     "output_type": "stream",
     "text": [
      "value  99\n",
      "\n",
      "index  0\n"
     ]
    }
   ],
   "source": [
    "print(\"value \",np.max(a))\n",
    "print()\n",
    "print(\"index \",np.argmax(a))"
   ]
  },
  {
   "cell_type": "code",
   "execution_count": 32,
   "id": "7c7560e2",
   "metadata": {},
   "outputs": [
    {
     "name": "stdout",
     "output_type": "stream",
     "text": [
      "[[76 70 93 85]\n",
      " [89 37 66 57]\n",
      " [88 32 76  8]\n",
      " [75 82 33 64]\n",
      " [54 16 13 64]\n",
      " [10 88 62 67]]\n",
      "\n",
      "93\n",
      "\n",
      "2\n"
     ]
    }
   ],
   "source": [
    "print(b)\n",
    "print()\n",
    "print(np.max(b))\n",
    "print()\n",
    "print(np.argmax(b))"
   ]
  },
  {
   "cell_type": "code",
   "execution_count": 33,
   "id": "362f6c9b",
   "metadata": {},
   "outputs": [
    {
     "data": {
      "text/plain": [
       "array([1, 5, 0, 0])"
      ]
     },
     "execution_count": 33,
     "metadata": {},
     "output_type": "execute_result"
    }
   ],
   "source": [
    "np.argmax(b,axis=0)"
   ]
  },
  {
   "cell_type": "code",
   "execution_count": 34,
   "id": "33221612",
   "metadata": {},
   "outputs": [
    {
     "data": {
      "text/plain": [
       "array([2, 0, 0, 1, 3, 1])"
      ]
     },
     "execution_count": 34,
     "metadata": {},
     "output_type": "execute_result"
    }
   ],
   "source": [
    "np.argmax(b,axis=1)"
   ]
  },
  {
   "cell_type": "markdown",
   "id": "43b2883a",
   "metadata": {},
   "source": [
    "# np.argmin()"
   ]
  },
  {
   "cell_type": "code",
   "execution_count": 35,
   "id": "97cfd7e1",
   "metadata": {},
   "outputs": [
    {
     "name": "stdout",
     "output_type": "stream",
     "text": [
      "[99 73 80 17 60 94 69 82 15 70 91 47 22 71 94]\n",
      "\n",
      "value  15\n",
      "\n",
      "index  8\n"
     ]
    }
   ],
   "source": [
    "print(a)\n",
    "print()\n",
    "print(\"value \",np.min(a))\n",
    "print()\n",
    "print(\"index \",np.argmin(a))"
   ]
  },
  {
   "cell_type": "markdown",
   "id": "af47f532",
   "metadata": {},
   "source": [
    "# np.cumsum()"
   ]
  },
  {
   "cell_type": "code",
   "execution_count": 36,
   "id": "750a9abe",
   "metadata": {},
   "outputs": [
    {
     "name": "stdout",
     "output_type": "stream",
     "text": [
      "[99 73 80 17 60 94 69 82 15 70 91 47 22 71 94]\n",
      "\n",
      "[ 99 172 252 269 329 423 492 574 589 659 750 797 819 890 984]\n"
     ]
    }
   ],
   "source": [
    "print(a)\n",
    "print()\n",
    "print(np.cumsum(a))"
   ]
  },
  {
   "cell_type": "code",
   "execution_count": 37,
   "id": "6c7b2e42",
   "metadata": {},
   "outputs": [
    {
     "name": "stdout",
     "output_type": "stream",
     "text": [
      "[[76 70 93 85]\n",
      " [89 37 66 57]\n",
      " [88 32 76  8]\n",
      " [75 82 33 64]\n",
      " [54 16 13 64]\n",
      " [10 88 62 67]]\n",
      "\n",
      "[  76  146  239  324  413  450  516  573  661  693  769  777  852  934\n",
      "  967 1031 1085 1101 1114 1178 1188 1276 1338 1405]\n"
     ]
    }
   ],
   "source": [
    "print(b)\n",
    "print()\n",
    "print(np.cumsum(b))"
   ]
  },
  {
   "cell_type": "code",
   "execution_count": 38,
   "id": "9bbde955",
   "metadata": {},
   "outputs": [
    {
     "name": "stdout",
     "output_type": "stream",
     "text": [
      "[[76 70 93 85]\n",
      " [89 37 66 57]\n",
      " [88 32 76  8]\n",
      " [75 82 33 64]\n",
      " [54 16 13 64]\n",
      " [10 88 62 67]]\n",
      "\n",
      "[  76  146  239  324  413  450  516  573  661  693  769  777  852  934\n",
      "  967 1031 1085 1101 1114 1178 1188 1276 1338 1405]\n"
     ]
    }
   ],
   "source": [
    "print(b)\n",
    "print()\n",
    "print(np.cumsum(b))"
   ]
  },
  {
   "cell_type": "code",
   "execution_count": 39,
   "id": "ab6818e5",
   "metadata": {},
   "outputs": [
    {
     "name": "stdout",
     "output_type": "stream",
     "text": [
      "[[76 70 93 85]\n",
      " [89 37 66 57]\n",
      " [88 32 76  8]\n",
      " [75 82 33 64]\n",
      " [54 16 13 64]\n",
      " [10 88 62 67]]\n",
      "\n",
      "[[ 76  70  93  85]\n",
      " [165 107 159 142]\n",
      " [253 139 235 150]\n",
      " [328 221 268 214]\n",
      " [382 237 281 278]\n",
      " [392 325 343 345]]\n"
     ]
    }
   ],
   "source": [
    "print(b)\n",
    "print()\n",
    "print(np.cumsum(b,axis=0))"
   ]
  },
  {
   "cell_type": "code",
   "execution_count": 40,
   "id": "a46f337f",
   "metadata": {},
   "outputs": [
    {
     "name": "stdout",
     "output_type": "stream",
     "text": [
      "[[76 70 93 85]\n",
      " [89 37 66 57]\n",
      " [88 32 76  8]\n",
      " [75 82 33 64]\n",
      " [54 16 13 64]\n",
      " [10 88 62 67]]\n",
      "\n",
      "[[ 76 146 239 324]\n",
      " [ 89 126 192 249]\n",
      " [ 88 120 196 204]\n",
      " [ 75 157 190 254]\n",
      " [ 54  70  83 147]\n",
      " [ 10  98 160 227]]\n"
     ]
    }
   ],
   "source": [
    "print(b)\n",
    "print()\n",
    "print(np.cumsum(b,axis=1))"
   ]
  },
  {
   "cell_type": "markdown",
   "id": "9a1c01d8",
   "metadata": {},
   "source": [
    "# np.cumprod"
   ]
  },
  {
   "cell_type": "code",
   "execution_count": 41,
   "id": "a8cf8963",
   "metadata": {},
   "outputs": [
    {
     "data": {
      "text/plain": [
       "array([                  99,                 7227,               578160,\n",
       "                    9828720,            589723200,          55433980800,\n",
       "              3824944675200,      313645463366400,     4704681950496000,\n",
       "         329327736534720000, -6924664122759583232,  6582179557071517184,\n",
       "       -2766002334103034880,  6528019089489591296,  4891239979606378496])"
      ]
     },
     "execution_count": 41,
     "metadata": {},
     "output_type": "execute_result"
    }
   ],
   "source": [
    "np.cumprod(a)"
   ]
  },
  {
   "cell_type": "code",
   "execution_count": 42,
   "id": "bd971f9e",
   "metadata": {},
   "outputs": [
    {
     "data": {
      "text/plain": [
       "array([                  76,                 5320,               494760,\n",
       "                   42054600,           3742859400,         138485797800,\n",
       "              9140062654800,      520983571323600,    45846554276476800,\n",
       "        1467089736847257600,   818355558134267904,  6546844465074143232,\n",
       "       -7048755109597151232, -6148852701970300928,     2045645785137152,\n",
       "         130921330248777728,  7069751833433997312,  2435564892686647296,\n",
       "       -5231144542492688384, -2751857392760127488, -9071829853891723264,\n",
       "       -5111031972960927744, -3289333070515142656,   975613160000061440])"
      ]
     },
     "execution_count": 42,
     "metadata": {},
     "output_type": "execute_result"
    }
   ],
   "source": [
    "np.cumprod(b)"
   ]
  },
  {
   "cell_type": "markdown",
   "id": "061d9d68",
   "metadata": {},
   "source": [
    "# np.percentile"
   ]
  },
  {
   "cell_type": "markdown",
   "id": "3c05b840",
   "metadata": {},
   "source": [
    "formula of percentile\n",
    ":(n/N)*100"
   ]
  },
  {
   "cell_type": "code",
   "execution_count": 43,
   "id": "12a664b1",
   "metadata": {},
   "outputs": [
    {
     "name": "stdout",
     "output_type": "stream",
     "text": [
      "[99 73 80 17 60 94 69 82 15 70 91 47 22 71 94]\n",
      "\n",
      "99.0\n"
     ]
    }
   ],
   "source": [
    "print(a)\n",
    "print()\n",
    "print(np.percentile(a,100))"
   ]
  },
  {
   "cell_type": "code",
   "execution_count": 44,
   "id": "34f7ceff",
   "metadata": {},
   "outputs": [
    {
     "name": "stdout",
     "output_type": "stream",
     "text": [
      "71.0\n"
     ]
    }
   ],
   "source": [
    "print(np.percentile(a,50))"
   ]
  },
  {
   "cell_type": "code",
   "execution_count": 45,
   "id": "48de09a3",
   "metadata": {},
   "outputs": [
    {
     "data": {
      "text/plain": [
       "71.0"
      ]
     },
     "execution_count": 45,
     "metadata": {},
     "output_type": "execute_result"
    }
   ],
   "source": [
    "np.median(a)"
   ]
  },
  {
   "cell_type": "markdown",
   "id": "d4567893",
   "metadata": {},
   "source": [
    "# np.histogram"
   ]
  },
  {
   "cell_type": "code",
   "execution_count": 46,
   "id": "413f10d5",
   "metadata": {},
   "outputs": [
    {
     "name": "stdout",
     "output_type": "stream",
     "text": [
      "[99 73 80 17 60 94 69 82 15 70 91 47 22 71 94]\n",
      "\n",
      "(array([0, 2, 1, 0, 1, 0, 2, 3, 2, 4]), array([  0,  10,  20,  30,  40,  50,  60,  70,  80,  90, 100]))\n"
     ]
    }
   ],
   "source": [
    "print(a)\n",
    "print()\n",
    "print(np.histogram(a,bins=[0,10,20,30,40,50,60,70,80,90,100]))"
   ]
  },
  {
   "cell_type": "code",
   "execution_count": 47,
   "id": "3a3892f3",
   "metadata": {},
   "outputs": [
    {
     "name": "stdout",
     "output_type": "stream",
     "text": [
      "(array([ 4, 11]), array([  0,  50, 100]))\n"
     ]
    }
   ],
   "source": [
    "print(np.histogram(a,bins=[0,50,100]))"
   ]
  },
  {
   "cell_type": "markdown",
   "id": "252ea2f9",
   "metadata": {},
   "source": [
    "# np.corrcoef"
   ]
  },
  {
   "cell_type": "raw",
   "id": "7baf78d5",
   "metadata": {},
   "source": [
    "x:exp\n",
    "    y:salary\n",
    "        if corrcoef is 0 no difference\n",
    "        if corrcoef is +1 x+ y+\n",
    "        if corrcoef is -1 x- y-"
   ]
  },
  {
   "cell_type": "code",
   "execution_count": 48,
   "id": "711eaad5",
   "metadata": {},
   "outputs": [
    {
     "data": {
      "text/plain": [
       "array([[1.        , 0.62409986],\n",
       "       [0.62409986, 1.        ]])"
      ]
     },
     "execution_count": 48,
     "metadata": {},
     "output_type": "execute_result"
    }
   ],
   "source": [
    "s = np.array([2000,4000,25000,35000])\n",
    "e= np.array([1,3,2,4])\n",
    "\n",
    "np.corrcoef(s,e)"
   ]
  },
  {
   "cell_type": "markdown",
   "id": "70c72f77",
   "metadata": {},
   "source": [
    "# np.isin"
   ]
  },
  {
   "cell_type": "code",
   "execution_count": 49,
   "id": "1de16349",
   "metadata": {},
   "outputs": [
    {
     "name": "stdout",
     "output_type": "stream",
     "text": [
      "[99 73 80 17 60 94 69 82 15 70 91 47 22 71 94]\n",
      "\n",
      "search element is 4 , 78 , 25\n",
      "\n",
      "[False False False False False False False False False False False False\n",
      " False False False]\n",
      "\n",
      "[]\n"
     ]
    }
   ],
   "source": [
    "#search multiple  items in single time\n",
    "print(a)\n",
    "print()\n",
    "print(\"search element is 4 , 78 , 25\")\n",
    "i = [4,78,25]\n",
    "print()\n",
    "print(np.isin(a,i))\n",
    "print()\n",
    "print(a[np.isin(a,i)])"
   ]
  },
  {
   "cell_type": "markdown",
   "id": "e903e5ed",
   "metadata": {},
   "source": [
    "# np.flip"
   ]
  },
  {
   "cell_type": "code",
   "execution_count": 50,
   "id": "f5a01a18",
   "metadata": {},
   "outputs": [
    {
     "data": {
      "text/plain": [
       "array([99, 73, 80, 17, 60, 94, 69, 82, 15, 70, 91, 47, 22, 71, 94])"
      ]
     },
     "execution_count": 50,
     "metadata": {},
     "output_type": "execute_result"
    }
   ],
   "source": [
    "a"
   ]
  },
  {
   "cell_type": "code",
   "execution_count": 51,
   "id": "6bf5f921",
   "metadata": {},
   "outputs": [
    {
     "data": {
      "text/plain": [
       "array([94, 71, 22, 47, 91, 70, 15, 82, 69, 94, 60, 17, 80, 73, 99])"
      ]
     },
     "execution_count": 51,
     "metadata": {},
     "output_type": "execute_result"
    }
   ],
   "source": [
    "np.flip(a)"
   ]
  },
  {
   "cell_type": "code",
   "execution_count": 52,
   "id": "50136195",
   "metadata": {},
   "outputs": [
    {
     "data": {
      "text/plain": [
       "array([[76, 70, 93, 85],\n",
       "       [89, 37, 66, 57],\n",
       "       [88, 32, 76,  8],\n",
       "       [75, 82, 33, 64],\n",
       "       [54, 16, 13, 64],\n",
       "       [10, 88, 62, 67]])"
      ]
     },
     "execution_count": 52,
     "metadata": {},
     "output_type": "execute_result"
    }
   ],
   "source": [
    "b"
   ]
  },
  {
   "cell_type": "code",
   "execution_count": 53,
   "id": "7de0860e",
   "metadata": {},
   "outputs": [
    {
     "data": {
      "text/plain": [
       "array([[67, 62, 88, 10],\n",
       "       [64, 13, 16, 54],\n",
       "       [64, 33, 82, 75],\n",
       "       [ 8, 76, 32, 88],\n",
       "       [57, 66, 37, 89],\n",
       "       [85, 93, 70, 76]])"
      ]
     },
     "execution_count": 53,
     "metadata": {},
     "output_type": "execute_result"
    }
   ],
   "source": [
    "#this is doing both fliping\n",
    "np.flip(b)"
   ]
  },
  {
   "cell_type": "code",
   "execution_count": 54,
   "id": "7090ec33",
   "metadata": {},
   "outputs": [
    {
     "name": "stdout",
     "output_type": "stream",
     "text": [
      "[[76 70 93 85]\n",
      " [89 37 66 57]\n",
      " [88 32 76  8]\n",
      " [75 82 33 64]\n",
      " [54 16 13 64]\n",
      " [10 88 62 67]]\n",
      "\n"
     ]
    },
    {
     "data": {
      "text/plain": [
       "array([[10, 88, 62, 67],\n",
       "       [54, 16, 13, 64],\n",
       "       [75, 82, 33, 64],\n",
       "       [88, 32, 76,  8],\n",
       "       [89, 37, 66, 57],\n",
       "       [76, 70, 93, 85]])"
      ]
     },
     "execution_count": 54,
     "metadata": {},
     "output_type": "execute_result"
    }
   ],
   "source": [
    "#column fliping\n",
    "print(b)\n",
    "print()\n",
    "np.flip(b,axis=0)"
   ]
  },
  {
   "cell_type": "code",
   "execution_count": 55,
   "id": "456a38b1",
   "metadata": {},
   "outputs": [
    {
     "data": {
      "text/plain": [
       "array([[85, 93, 70, 76],\n",
       "       [57, 66, 37, 89],\n",
       "       [ 8, 76, 32, 88],\n",
       "       [64, 33, 82, 75],\n",
       "       [64, 13, 16, 54],\n",
       "       [67, 62, 88, 10]])"
      ]
     },
     "execution_count": 55,
     "metadata": {},
     "output_type": "execute_result"
    }
   ],
   "source": [
    "np.flip(b,axis=1)"
   ]
  },
  {
   "cell_type": "markdown",
   "id": "d899bbf9",
   "metadata": {},
   "source": [
    "# np.put()"
   ]
  },
  {
   "cell_type": "code",
   "execution_count": 56,
   "id": "0b29f367",
   "metadata": {},
   "outputs": [
    {
     "data": {
      "text/plain": [
       "array([99, 73, 80, 17, 60, 94, 69, 82, 15, 70, 91, 47, 22, 71, 94])"
      ]
     },
     "execution_count": 56,
     "metadata": {},
     "output_type": "execute_result"
    }
   ],
   "source": [
    "a"
   ]
  },
  {
   "cell_type": "code",
   "execution_count": 59,
   "id": "1840ae8c",
   "metadata": {},
   "outputs": [
    {
     "data": {
      "text/plain": [
       "array([110, 530,  80,  17,  60,  94,  69,  82,  15,  70,  91,  47,  22,\n",
       "        71,  94])"
      ]
     },
     "execution_count": 59,
     "metadata": {},
     "output_type": "execute_result"
    }
   ],
   "source": [
    "#first give the array then index after that give value\n",
    "np.put(a,[0,1],[110,530])\n",
    "a"
   ]
  },
  {
   "cell_type": "markdown",
   "id": "0334b04b",
   "metadata": {},
   "source": [
    "# np.delete()"
   ]
  },
  {
   "cell_type": "code",
   "execution_count": 60,
   "id": "db5a4184",
   "metadata": {},
   "outputs": [
    {
     "data": {
      "text/plain": [
       "array([110, 530,  80,  17,  60,  94,  69,  82,  15,  70,  91,  47,  22,\n",
       "        71,  94])"
      ]
     },
     "execution_count": 60,
     "metadata": {},
     "output_type": "execute_result"
    }
   ],
   "source": [
    "a"
   ]
  },
  {
   "cell_type": "code",
   "execution_count": 62,
   "id": "c3e9a49f",
   "metadata": {},
   "outputs": [
    {
     "data": {
      "text/plain": [
       "array([530,  80,  17,  60,  94,  69,  82,  15,  70,  91,  47,  22,  71,\n",
       "        94])"
      ]
     },
     "execution_count": 62,
     "metadata": {},
     "output_type": "execute_result"
    }
   ],
   "source": [
    "#delete first item\n",
    "np.delete(a,0)"
   ]
  },
  {
   "cell_type": "code",
   "execution_count": 63,
   "id": "3a965b1c",
   "metadata": {},
   "outputs": [
    {
     "data": {
      "text/plain": [
       "array([530,  80,  94,  69,  82,  15,  70,  91,  47,  22,  71,  94])"
      ]
     },
     "execution_count": 63,
     "metadata": {},
     "output_type": "execute_result"
    }
   ],
   "source": [
    "np.delete(a,[0,4,3])"
   ]
  },
  {
   "cell_type": "markdown",
   "id": "e96e38ef",
   "metadata": {},
   "source": [
    "# Set Functions"
   ]
  },
  {
   "cell_type": "raw",
   "id": "956cbb38",
   "metadata": {},
   "source": [
    ">np.union1d\n",
    ">np.intersection1d\n",
    ">np.setdiff1d\n",
    ">np.setxor1d\n",
    ">np.in1d"
   ]
  },
  {
   "cell_type": "code",
   "execution_count": 64,
   "id": "93c554f7",
   "metadata": {},
   "outputs": [
    {
     "data": {
      "text/plain": [
       "array([1, 2, 3, 4, 5, 6, 7])"
      ]
     },
     "execution_count": 64,
     "metadata": {},
     "output_type": "execute_result"
    }
   ],
   "source": [
    "m = np.array([1,2,3,4,5])\n",
    "n = np.array([3,4,5,6,7])\n",
    "np.union1d(m,n)"
   ]
  },
  {
   "cell_type": "code",
   "execution_count": 65,
   "id": "bae77b7d",
   "metadata": {},
   "outputs": [
    {
     "data": {
      "text/plain": [
       "array([3, 4, 5])"
      ]
     },
     "execution_count": 65,
     "metadata": {},
     "output_type": "execute_result"
    }
   ],
   "source": [
    "np.intersect1d(m,n)"
   ]
  },
  {
   "cell_type": "code",
   "execution_count": 67,
   "id": "2f4f1d9f",
   "metadata": {},
   "outputs": [
    {
     "data": {
      "text/plain": [
       "array([1, 2])"
      ]
     },
     "execution_count": 67,
     "metadata": {},
     "output_type": "execute_result"
    }
   ],
   "source": [
    "np.setdiff1d(m,n)"
   ]
  },
  {
   "cell_type": "code",
   "execution_count": 68,
   "id": "bca94e98",
   "metadata": {},
   "outputs": [
    {
     "data": {
      "text/plain": [
       "array([1, 2, 6, 7])"
      ]
     },
     "execution_count": 68,
     "metadata": {},
     "output_type": "execute_result"
    }
   ],
   "source": [
    "np.setxor1d(m,n)"
   ]
  },
  {
   "cell_type": "code",
   "execution_count": 69,
   "id": "fdb90a7e",
   "metadata": {},
   "outputs": [
    {
     "data": {
      "text/plain": [
       "array([ True, False, False, False, False])"
      ]
     },
     "execution_count": 69,
     "metadata": {},
     "output_type": "execute_result"
    }
   ],
   "source": [
    "np.in1d(m,1)"
   ]
  },
  {
   "cell_type": "markdown",
   "id": "d10e1837",
   "metadata": {},
   "source": [
    "# np.clip"
   ]
  },
  {
   "cell_type": "code",
   "execution_count": 70,
   "id": "4b404af1",
   "metadata": {},
   "outputs": [
    {
     "data": {
      "text/plain": [
       "array([110, 530,  80,  17,  60,  94,  69,  82,  15,  70,  91,  47,  22,\n",
       "        71,  94])"
      ]
     },
     "execution_count": 70,
     "metadata": {},
     "output_type": "execute_result"
    }
   ],
   "source": [
    "a"
   ]
  },
  {
   "cell_type": "code",
   "execution_count": 71,
   "id": "9b92169c",
   "metadata": {},
   "outputs": [
    {
     "data": {
      "text/plain": [
       "array([75, 75, 75, 25, 60, 75, 69, 75, 25, 70, 75, 47, 25, 71, 75])"
      ]
     },
     "execution_count": 71,
     "metadata": {},
     "output_type": "execute_result"
    }
   ],
   "source": [
    "np.clip(a,a_min=25,a_max=75)"
   ]
  },
  {
   "cell_type": "code",
   "execution_count": null,
   "id": "d678905a",
   "metadata": {},
   "outputs": [],
   "source": []
  }
 ],
 "metadata": {
  "kernelspec": {
   "display_name": "Python 3 (ipykernel)",
   "language": "python",
   "name": "python3"
  },
  "language_info": {
   "codemirror_mode": {
    "name": "ipython",
    "version": 3
   },
   "file_extension": ".py",
   "mimetype": "text/x-python",
   "name": "python",
   "nbconvert_exporter": "python",
   "pygments_lexer": "ipython3",
   "version": "3.9.13"
  }
 },
 "nbformat": 4,
 "nbformat_minor": 5
}
