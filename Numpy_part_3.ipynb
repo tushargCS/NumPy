{
 "cells": [
  {
   "cell_type": "markdown",
   "id": "0b110ff3",
   "metadata": {},
   "source": [
    "<h1 style=\"color:blue;font-size:30px\">np.sort()</h1>"
   ]
  },
  {
   "cell_type": "code",
   "execution_count": 3,
   "id": "d7d480d7",
   "metadata": {},
   "outputs": [
    {
     "data": {
      "text/plain": [
       "array([65, 68, 63, 24, 55, 61, 68, 73, 12, 30, 70, 10, 64, 21, 32])"
      ]
     },
     "execution_count": 3,
     "metadata": {},
     "output_type": "execute_result"
    }
   ],
   "source": [
    "import numpy as np\n",
    "a = np.random.randint(1,100,15)\n",
    "a"
   ]
  },
  {
   "cell_type": "code",
   "execution_count": 4,
   "id": "b0dba0da",
   "metadata": {},
   "outputs": [
    {
     "data": {
      "text/plain": [
       "array([[48, 30,  4,  3],\n",
       "       [51, 26, 65, 82],\n",
       "       [82, 38, 60, 67],\n",
       "       [23, 36, 28, 52],\n",
       "       [46, 20, 26, 58],\n",
       "       [42, 59, 34, 68]])"
      ]
     },
     "execution_count": 4,
     "metadata": {},
     "output_type": "execute_result"
    }
   ],
   "source": [
    "b= np.random.randint(1,100,24).reshape(6,4)\n",
    "b"
   ]
  },
  {
   "cell_type": "code",
   "execution_count": 5,
   "id": "c1c8507b",
   "metadata": {},
   "outputs": [
    {
     "data": {
      "text/plain": [
       "array([10, 12, 21, 24, 30, 32, 55, 61, 63, 64, 65, 68, 68, 70, 73])"
      ]
     },
     "execution_count": 5,
     "metadata": {},
     "output_type": "execute_result"
    }
   ],
   "source": [
    "np.sort(a)"
   ]
  },
  {
   "cell_type": "code",
   "execution_count": 6,
   "id": "f5a4cdf8",
   "metadata": {},
   "outputs": [
    {
     "data": {
      "text/plain": [
       "array([[ 3,  4, 30, 48],\n",
       "       [26, 51, 65, 82],\n",
       "       [38, 60, 67, 82],\n",
       "       [23, 28, 36, 52],\n",
       "       [20, 26, 46, 58],\n",
       "       [34, 42, 59, 68]])"
      ]
     },
     "execution_count": 6,
     "metadata": {},
     "output_type": "execute_result"
    }
   ],
   "source": [
    "np.sort(b) ## default sorting row-wise"
   ]
  },
  {
   "cell_type": "markdown",
   "id": "00474a6b",
   "metadata": {},
   "source": [
    "<h1 style=\"color:orange\">sort function kind parameter</h1>"
   ]
  },
  {
   "cell_type": "code",
   "execution_count": 7,
   "id": "5be2a0d3",
   "metadata": {
    "scrolled": true
   },
   "outputs": [
    {
     "data": {
      "text/plain": [
       "array([10, 12, 21, 24, 30, 32, 55, 61, 63, 64, 65, 68, 68, 70, 73])"
      ]
     },
     "execution_count": 7,
     "metadata": {},
     "output_type": "execute_result"
    }
   ],
   "source": [
    "np.sort(a,kind=\"mergesort\")"
   ]
  },
  {
   "cell_type": "markdown",
   "id": "1e5336a1",
   "metadata": {},
   "source": [
    "<h1 style=\"color:orange\">Column-Wise sorting</h1>"
   ]
  },
  {
   "cell_type": "code",
   "execution_count": 8,
   "id": "0eb51701",
   "metadata": {},
   "outputs": [
    {
     "data": {
      "text/plain": [
       "array([[23, 20,  4,  3],\n",
       "       [42, 26, 26, 52],\n",
       "       [46, 30, 28, 58],\n",
       "       [48, 36, 34, 67],\n",
       "       [51, 38, 60, 68],\n",
       "       [82, 59, 65, 82]])"
      ]
     },
     "execution_count": 8,
     "metadata": {},
     "output_type": "execute_result"
    }
   ],
   "source": [
    "np.sort(b,axis=0)"
   ]
  },
  {
   "cell_type": "markdown",
   "id": "097718f9",
   "metadata": {},
   "source": [
    "<h1 style=\"color:orange\">reverse sorting</h1>"
   ]
  },
  {
   "cell_type": "code",
   "execution_count": 9,
   "id": "72b20585",
   "metadata": {},
   "outputs": [
    {
     "data": {
      "text/plain": [
       "array([73, 70, 68, 68, 65, 64, 63, 61, 55, 32, 30, 24, 21, 12, 10])"
      ]
     },
     "execution_count": 9,
     "metadata": {},
     "output_type": "execute_result"
    }
   ],
   "source": [
    "#for reverse sorting\n",
    "np.sort(a)[::-1]"
   ]
  },
  {
   "cell_type": "markdown",
   "id": "e92bd098",
   "metadata": {},
   "source": [
    "<h1 style=\"color:blue;font-size:30px\">np.append()</h1>"
   ]
  },
  {
   "cell_type": "code",
   "execution_count": 10,
   "id": "a3c9bd1f",
   "metadata": {},
   "outputs": [
    {
     "data": {
      "text/plain": [
       "array([65, 68, 63, 24, 55, 61, 68, 73, 12, 30, 70, 10, 64, 21, 32])"
      ]
     },
     "execution_count": 10,
     "metadata": {},
     "output_type": "execute_result"
    }
   ],
   "source": [
    "a"
   ]
  },
  {
   "cell_type": "code",
   "execution_count": 11,
   "id": "261b0a56",
   "metadata": {},
   "outputs": [
    {
     "data": {
      "text/plain": [
       "array([  65,   68,   63,   24,   55,   61,   68,   73,   12,   30,   70,\n",
       "         10,   64,   21,   32, 1200])"
      ]
     },
     "execution_count": 11,
     "metadata": {},
     "output_type": "execute_result"
    }
   ],
   "source": [
    "np.append(a,1200)"
   ]
  },
  {
   "cell_type": "code",
   "execution_count": 12,
   "id": "6c1d145a",
   "metadata": {},
   "outputs": [
    {
     "data": {
      "text/plain": [
       "array([[48, 30,  4,  3],\n",
       "       [51, 26, 65, 82],\n",
       "       [82, 38, 60, 67],\n",
       "       [23, 36, 28, 52],\n",
       "       [46, 20, 26, 58],\n",
       "       [42, 59, 34, 68]])"
      ]
     },
     "execution_count": 12,
     "metadata": {},
     "output_type": "execute_result"
    }
   ],
   "source": [
    "b"
   ]
  },
  {
   "cell_type": "code",
   "execution_count": 13,
   "id": "8ce25438",
   "metadata": {},
   "outputs": [
    {
     "name": "stdout",
     "output_type": "stream",
     "text": [
      "[48 30  4  3 51 26 65 82 82 38 60 67 23 36 28 52 46 20 26 58 42 59 34 68\n",
      "  1  2  3  4]\n",
      "\n",
      "[48 30  4  3 51 26 65 82 82 38 60 67 23 36 28 52 46 20 26 58 42 59 34 68\n",
      "  1  2  3  4]\n"
     ]
    }
   ],
   "source": [
    "c=np.array([1,2,3,4])\n",
    "print(np.append(b,[1,2,3,4]))\n",
    "print()\n",
    "print(np.append(b,c))"
   ]
  },
  {
   "cell_type": "code",
   "execution_count": 14,
   "id": "18859eca",
   "metadata": {},
   "outputs": [
    {
     "data": {
      "text/plain": [
       "array([[1.],\n",
       "       [1.],\n",
       "       [1.],\n",
       "       [1.],\n",
       "       [1.],\n",
       "       [1.]])"
      ]
     },
     "execution_count": 14,
     "metadata": {},
     "output_type": "execute_result"
    }
   ],
   "source": [
    "np.ones((b.shape[0],1))"
   ]
  },
  {
   "cell_type": "code",
   "execution_count": 15,
   "id": "46122c0f",
   "metadata": {},
   "outputs": [
    {
     "data": {
      "text/plain": [
       "array([48., 30.,  4.,  3., 51., 26., 65., 82., 82., 38., 60., 67., 23.,\n",
       "       36., 28., 52., 46., 20., 26., 58., 42., 59., 34., 68.,  1.,  1.,\n",
       "        1.,  1.,  1.,  1.])"
      ]
     },
     "execution_count": 15,
     "metadata": {},
     "output_type": "execute_result"
    }
   ],
   "source": [
    "np.append(b,np.ones((b.shape[0],1)))"
   ]
  },
  {
   "cell_type": "markdown",
   "id": "af42d096",
   "metadata": {},
   "source": [
    "<h1 style=\"color:orange\">Column-wise append</h1>"
   ]
  },
  {
   "cell_type": "code",
   "execution_count": 16,
   "id": "0e5d2217",
   "metadata": {
    "scrolled": false
   },
   "outputs": [
    {
     "data": {
      "text/plain": [
       "array([[48., 30.,  4.,  3.,  1.],\n",
       "       [51., 26., 65., 82.,  1.],\n",
       "       [82., 38., 60., 67.,  1.],\n",
       "       [23., 36., 28., 52.,  1.],\n",
       "       [46., 20., 26., 58.,  1.],\n",
       "       [42., 59., 34., 68.,  1.]])"
      ]
     },
     "execution_count": 16,
     "metadata": {},
     "output_type": "execute_result"
    }
   ],
   "source": [
    "np.append(b,np.ones((b.shape[0],1)),axis=1)"
   ]
  },
  {
   "cell_type": "markdown",
   "id": "7be56d37",
   "metadata": {},
   "source": [
    "<h1 style=\"color:blue;font-size:30px\">np.concatenate()</h1>"
   ]
  },
  {
   "cell_type": "code",
   "execution_count": 17,
   "id": "daa79b61",
   "metadata": {},
   "outputs": [],
   "source": [
    "#np.concatenate() function concatenate a sequence of array along an existing axis."
   ]
  },
  {
   "cell_type": "code",
   "execution_count": 18,
   "id": "e5e48caa",
   "metadata": {},
   "outputs": [
    {
     "name": "stdout",
     "output_type": "stream",
     "text": [
      "[[0 1 2]\n",
      " [3 4 5]]\n",
      "\n",
      "[[ 6  7  8]\n",
      " [ 9 10 11]]\n"
     ]
    }
   ],
   "source": [
    "c= np.arange(6).reshape(2,3)\n",
    "d=np.arange(6,12).reshape(2,3)\n",
    "print(c)\n",
    "print()\n",
    "print(d)"
   ]
  },
  {
   "cell_type": "code",
   "execution_count": 19,
   "id": "6ec161a8",
   "metadata": {},
   "outputs": [
    {
     "data": {
      "text/plain": [
       "array([[ 0,  1,  2],\n",
       "       [ 3,  4,  5],\n",
       "       [ 6,  7,  8],\n",
       "       [ 9, 10, 11]])"
      ]
     },
     "execution_count": 19,
     "metadata": {},
     "output_type": "execute_result"
    }
   ],
   "source": [
    "np.concatenate((c,d)) #default concatenation row-wise"
   ]
  },
  {
   "cell_type": "code",
   "execution_count": 20,
   "id": "b564bb74",
   "metadata": {},
   "outputs": [
    {
     "data": {
      "text/plain": [
       "array([[ 0,  1,  2],\n",
       "       [ 3,  4,  5],\n",
       "       [ 6,  7,  8],\n",
       "       [ 9, 10, 11]])"
      ]
     },
     "execution_count": 20,
     "metadata": {},
     "output_type": "execute_result"
    }
   ],
   "source": [
    "np.concatenate((c,d),axis=0)"
   ]
  },
  {
   "cell_type": "markdown",
   "id": "10027f90",
   "metadata": {},
   "source": [
    "<h1 style=\"color:orange\">column-wise</h1> "
   ]
  },
  {
   "cell_type": "code",
   "execution_count": 21,
   "id": "243fe564",
   "metadata": {
    "scrolled": true
   },
   "outputs": [
    {
     "data": {
      "text/plain": [
       "array([[ 0,  1,  2,  6,  7,  8],\n",
       "       [ 3,  4,  5,  9, 10, 11]])"
      ]
     },
     "execution_count": 21,
     "metadata": {},
     "output_type": "execute_result"
    }
   ],
   "source": [
    "np.concatenate((c,d),axis=1)"
   ]
  },
  {
   "cell_type": "markdown",
   "id": "6ad07097",
   "metadata": {},
   "source": [
    "<h1 style=\"color:blue;font-size:30px\">np.unique()</h1>"
   ]
  },
  {
   "cell_type": "code",
   "execution_count": 22,
   "id": "ac7620bf",
   "metadata": {},
   "outputs": [
    {
     "data": {
      "text/plain": [
       "array([ 2,  3, 11, 33])"
      ]
     },
     "execution_count": 22,
     "metadata": {},
     "output_type": "execute_result"
    }
   ],
   "source": [
    "e=np.unique([11,2,2,2,33,3,33,11])\n",
    "np.unique(e)"
   ]
  },
  {
   "cell_type": "markdown",
   "id": "f314ef0a",
   "metadata": {},
   "source": [
    "<h1 style=\"color:blue;font-size:30px\">np.expand_dims</h1>"
   ]
  },
  {
   "cell_type": "code",
   "execution_count": 23,
   "id": "45b4906c",
   "metadata": {},
   "outputs": [
    {
     "data": {
      "text/plain": [
       "array([65, 68, 63, 24, 55, 61, 68, 73, 12, 30, 70, 10, 64, 21, 32])"
      ]
     },
     "execution_count": 23,
     "metadata": {},
     "output_type": "execute_result"
    }
   ],
   "source": [
    "a"
   ]
  },
  {
   "cell_type": "code",
   "execution_count": 24,
   "id": "4ebaeb69",
   "metadata": {},
   "outputs": [
    {
     "data": {
      "text/plain": [
       "array([[65, 68, 63, 24, 55, 61, 68, 73, 12, 30, 70, 10, 64, 21, 32]])"
      ]
     },
     "execution_count": 24,
     "metadata": {},
     "output_type": "execute_result"
    }
   ],
   "source": [
    "v=np.expand_dims(a,axis=0)\n",
    "v"
   ]
  },
  {
   "cell_type": "code",
   "execution_count": 25,
   "id": "81c66c6f",
   "metadata": {},
   "outputs": [
    {
     "name": "stdout",
     "output_type": "stream",
     "text": [
      "1\n",
      "\n",
      "2\n"
     ]
    }
   ],
   "source": [
    "print(a.ndim)\n",
    "print()\n",
    "print(v.ndim)"
   ]
  },
  {
   "cell_type": "code",
   "execution_count": 26,
   "id": "7816fd95",
   "metadata": {},
   "outputs": [],
   "source": [
    "y = np.expand_dims(a,axis=1)"
   ]
  },
  {
   "cell_type": "code",
   "execution_count": 27,
   "id": "06d36f8d",
   "metadata": {},
   "outputs": [
    {
     "name": "stdout",
     "output_type": "stream",
     "text": [
      "1\n",
      "\n",
      "2\n"
     ]
    }
   ],
   "source": [
    "print(a.ndim)\n",
    "print()\n",
    "print(y.ndim)"
   ]
  },
  {
   "cell_type": "markdown",
   "id": "5e76c891",
   "metadata": {},
   "source": [
    "<h1 style=\"color:blue;font-size:30px\">np.where()</h1>"
   ]
  },
  {
   "cell_type": "markdown",
   "id": "ff099cc3",
   "metadata": {},
   "source": [
    "<h1 style=\"color:orange\">find all indices with values greater than 50</h1> "
   ]
  },
  {
   "cell_type": "code",
   "execution_count": 28,
   "id": "1403ffa8",
   "metadata": {},
   "outputs": [
    {
     "data": {
      "text/plain": [
       "(array([ 0,  1,  2,  4,  5,  6,  7, 10, 12]),)"
      ]
     },
     "execution_count": 28,
     "metadata": {},
     "output_type": "execute_result"
    }
   ],
   "source": [
    "np.where(a>50)"
   ]
  },
  {
   "cell_type": "code",
   "execution_count": 29,
   "id": "6ae1c65a",
   "metadata": {},
   "outputs": [
    {
     "data": {
      "text/plain": [
       "array([65, 68, 63, 55, 61, 68, 73, 70, 64])"
      ]
     },
     "execution_count": 29,
     "metadata": {},
     "output_type": "execute_result"
    }
   ],
   "source": [
    "c=a[a>50]\n",
    "c"
   ]
  },
  {
   "cell_type": "markdown",
   "id": "f6c40dec",
   "metadata": {},
   "source": [
    "<h1 style=\"color:orange\">replace all values > 50 with 0</h1> "
   ]
  },
  {
   "cell_type": "code",
   "execution_count": 30,
   "id": "d74d4d89",
   "metadata": {},
   "outputs": [
    {
     "data": {
      "text/plain": [
       "array([ 0,  0,  0, 24,  0,  0,  0,  0, 12, 30,  0, 10,  0, 21, 32])"
      ]
     },
     "execution_count": 30,
     "metadata": {},
     "output_type": "execute_result"
    }
   ],
   "source": [
    "np.where(a>50,0,a)"
   ]
  },
  {
   "cell_type": "markdown",
   "id": "273c1541",
   "metadata": {},
   "source": [
    "<h1 style=\"color:orange\">replace all even no's from zero</h1> "
   ]
  },
  {
   "cell_type": "code",
   "execution_count": 31,
   "id": "78eef659",
   "metadata": {},
   "outputs": [
    {
     "name": "stdout",
     "output_type": "stream",
     "text": [
      "[65 68 63 24 55 61 68 73 12 30 70 10 64 21 32]\n",
      "\n"
     ]
    },
    {
     "data": {
      "text/plain": [
       "array([65,  0, 63,  0, 55, 61,  0, 73,  0,  0,  0,  0,  0, 21,  0])"
      ]
     },
     "execution_count": 31,
     "metadata": {},
     "output_type": "execute_result"
    }
   ],
   "source": [
    "print(a)\n",
    "print()\n",
    "np.where(a%2==0,0,a)"
   ]
  },
  {
   "cell_type": "markdown",
   "id": "0a8b7d09",
   "metadata": {},
   "source": [
    "<h1 style=\"color:blue;font-size:30px\">np.argmax()</h1>"
   ]
  },
  {
   "cell_type": "code",
   "execution_count": 32,
   "id": "e76806c8",
   "metadata": {},
   "outputs": [
    {
     "data": {
      "text/plain": [
       "array([65, 68, 63, 24, 55, 61, 68, 73, 12, 30, 70, 10, 64, 21, 32])"
      ]
     },
     "execution_count": 32,
     "metadata": {},
     "output_type": "execute_result"
    }
   ],
   "source": [
    "a"
   ]
  },
  {
   "cell_type": "code",
   "execution_count": 33,
   "id": "6d9a7121",
   "metadata": {},
   "outputs": [
    {
     "name": "stdout",
     "output_type": "stream",
     "text": [
      "value  73\n",
      "\n",
      "index  7\n"
     ]
    }
   ],
   "source": [
    "print(\"value \",np.max(a))\n",
    "print()\n",
    "print(\"index \",np.argmax(a))"
   ]
  },
  {
   "cell_type": "code",
   "execution_count": 34,
   "id": "7c7560e2",
   "metadata": {},
   "outputs": [
    {
     "name": "stdout",
     "output_type": "stream",
     "text": [
      "[[48 30  4  3]\n",
      " [51 26 65 82]\n",
      " [82 38 60 67]\n",
      " [23 36 28 52]\n",
      " [46 20 26 58]\n",
      " [42 59 34 68]]\n",
      "\n",
      "82\n",
      "\n",
      "7\n"
     ]
    }
   ],
   "source": [
    "print(b)\n",
    "print()\n",
    "print(np.max(b))\n",
    "print()\n",
    "print(np.argmax(b))"
   ]
  },
  {
   "cell_type": "markdown",
   "id": "9eb9c5af",
   "metadata": {},
   "source": [
    "<h1 style=\"color:orange\">column-wise</h1> "
   ]
  },
  {
   "cell_type": "code",
   "execution_count": 35,
   "id": "362f6c9b",
   "metadata": {
    "scrolled": true
   },
   "outputs": [
    {
     "data": {
      "text/plain": [
       "array([2, 5, 1, 1])"
      ]
     },
     "execution_count": 35,
     "metadata": {},
     "output_type": "execute_result"
    }
   ],
   "source": [
    "np.argmax(b,axis=0)"
   ]
  },
  {
   "cell_type": "markdown",
   "id": "2836040d",
   "metadata": {},
   "source": [
    "<h1 style=\"color:orange\">row-wise</h1> "
   ]
  },
  {
   "cell_type": "code",
   "execution_count": 36,
   "id": "33221612",
   "metadata": {},
   "outputs": [
    {
     "data": {
      "text/plain": [
       "array([0, 3, 0, 3, 3, 3])"
      ]
     },
     "execution_count": 36,
     "metadata": {},
     "output_type": "execute_result"
    }
   ],
   "source": [
    "np.argmax(b,axis=1)"
   ]
  },
  {
   "cell_type": "markdown",
   "id": "43b2883a",
   "metadata": {},
   "source": [
    "<h1 style=\"color:blue;font-size:30px\">np.argmin()</h1>"
   ]
  },
  {
   "cell_type": "code",
   "execution_count": 37,
   "id": "97cfd7e1",
   "metadata": {},
   "outputs": [
    {
     "name": "stdout",
     "output_type": "stream",
     "text": [
      "[65 68 63 24 55 61 68 73 12 30 70 10 64 21 32]\n",
      "\n",
      "value  10\n",
      "\n",
      "index  11\n"
     ]
    }
   ],
   "source": [
    "print(a)\n",
    "print()\n",
    "print(\"value \",np.min(a))\n",
    "print()\n",
    "print(\"index \",np.argmin(a))"
   ]
  },
  {
   "cell_type": "markdown",
   "id": "af47f532",
   "metadata": {},
   "source": [
    "<h1 style=\"color:blue;font-size:30px\">np.cumsum()</h1>"
   ]
  },
  {
   "cell_type": "code",
   "execution_count": 38,
   "id": "750a9abe",
   "metadata": {},
   "outputs": [
    {
     "name": "stdout",
     "output_type": "stream",
     "text": [
      "[65 68 63 24 55 61 68 73 12 30 70 10 64 21 32]\n",
      "\n",
      "[ 65 133 196 220 275 336 404 477 489 519 589 599 663 684 716]\n"
     ]
    }
   ],
   "source": [
    "print(a)\n",
    "print()\n",
    "print(np.cumsum(a))"
   ]
  },
  {
   "cell_type": "code",
   "execution_count": 39,
   "id": "6c7b2e42",
   "metadata": {},
   "outputs": [
    {
     "name": "stdout",
     "output_type": "stream",
     "text": [
      "[[48 30  4  3]\n",
      " [51 26 65 82]\n",
      " [82 38 60 67]\n",
      " [23 36 28 52]\n",
      " [46 20 26 58]\n",
      " [42 59 34 68]]\n",
      "\n",
      "[  48   78   82   85  136  162  227  309  391  429  489  556  579  615\n",
      "  643  695  741  761  787  845  887  946  980 1048]\n"
     ]
    }
   ],
   "source": [
    "print(b)\n",
    "print()\n",
    "print(np.cumsum(b))"
   ]
  },
  {
   "cell_type": "markdown",
   "id": "941afda0",
   "metadata": {},
   "source": [
    "<h1 style=\"color:orange\">column-wise</h1> "
   ]
  },
  {
   "cell_type": "code",
   "execution_count": 41,
   "id": "ab6818e5",
   "metadata": {},
   "outputs": [
    {
     "name": "stdout",
     "output_type": "stream",
     "text": [
      "[[48 30  4  3]\n",
      " [51 26 65 82]\n",
      " [82 38 60 67]\n",
      " [23 36 28 52]\n",
      " [46 20 26 58]\n",
      " [42 59 34 68]]\n",
      "\n",
      "[[ 48  30   4   3]\n",
      " [ 99  56  69  85]\n",
      " [181  94 129 152]\n",
      " [204 130 157 204]\n",
      " [250 150 183 262]\n",
      " [292 209 217 330]]\n"
     ]
    }
   ],
   "source": [
    "print(b)\n",
    "print()\n",
    "print(np.cumsum(b,axis=0))"
   ]
  },
  {
   "cell_type": "markdown",
   "id": "4a7611a5",
   "metadata": {},
   "source": [
    "<h1 style=\"color:orange\">row-wise</h1> "
   ]
  },
  {
   "cell_type": "code",
   "execution_count": 42,
   "id": "a46f337f",
   "metadata": {
    "scrolled": true
   },
   "outputs": [
    {
     "name": "stdout",
     "output_type": "stream",
     "text": [
      "[[48 30  4  3]\n",
      " [51 26 65 82]\n",
      " [82 38 60 67]\n",
      " [23 36 28 52]\n",
      " [46 20 26 58]\n",
      " [42 59 34 68]]\n",
      "\n",
      "[[ 48  78  82  85]\n",
      " [ 51  77 142 224]\n",
      " [ 82 120 180 247]\n",
      " [ 23  59  87 139]\n",
      " [ 46  66  92 150]\n",
      " [ 42 101 135 203]]\n"
     ]
    }
   ],
   "source": [
    "print(b)\n",
    "print()\n",
    "print(np.cumsum(b,axis=1))"
   ]
  },
  {
   "cell_type": "markdown",
   "id": "9a1c01d8",
   "metadata": {},
   "source": [
    "<h1 style=\"color:blue;font-size:30px\">np.cumprod()</h1>"
   ]
  },
  {
   "cell_type": "code",
   "execution_count": 43,
   "id": "a8cf8963",
   "metadata": {},
   "outputs": [
    {
     "data": {
      "text/plain": [
       "array([                  65,                 4420,               278460,\n",
       "                    6683040,            367567200,          22421599200,\n",
       "              1524668745600,      111300818428800,     1335609821145600,\n",
       "          40068294634368000,  2804780624405760000, -8845681903361503232,\n",
       "        5725424469859893248, -8893294648909103104, -7884267659448025088])"
      ]
     },
     "execution_count": 43,
     "metadata": {},
     "output_type": "execute_result"
    }
   ],
   "source": [
    "np.cumprod(a)"
   ]
  },
  {
   "cell_type": "code",
   "execution_count": 44,
   "id": "bd971f9e",
   "metadata": {},
   "outputs": [
    {
     "data": {
      "text/plain": [
       "array([                  48,                 1440,                 5760,\n",
       "                      17280,               881280,             22913280,\n",
       "                 1489363200,         122127782400,       10014478156800,\n",
       "            380550169958400,    22833010197504000,  1529811683232768000,\n",
       "       -1707819433065439232, -6141267369227157504, -5934789674974445568,\n",
       "        4985586154391207936,  7976034217480945664, -6500012313767051264,\n",
       "       -2979623494557368320, -6797466020941398016, -8792411773895442432,\n",
       "       -2243460595963658240, -2490683967926173696, -3345813155593846784])"
      ]
     },
     "execution_count": 44,
     "metadata": {},
     "output_type": "execute_result"
    }
   ],
   "source": [
    "np.cumprod(b)"
   ]
  },
  {
   "cell_type": "markdown",
   "id": "061d9d68",
   "metadata": {},
   "source": [
    "<h1 style=\"color:blue;font-size:30px\">np.percentile()</h1>"
   ]
  },
  {
   "cell_type": "markdown",
   "id": "3c05b840",
   "metadata": {},
   "source": [
    "formula of percentile\n",
    ":(n/N)*100"
   ]
  },
  {
   "cell_type": "code",
   "execution_count": 45,
   "id": "12a664b1",
   "metadata": {},
   "outputs": [
    {
     "name": "stdout",
     "output_type": "stream",
     "text": [
      "[65 68 63 24 55 61 68 73 12 30 70 10 64 21 32]\n",
      "\n",
      "73.0\n"
     ]
    }
   ],
   "source": [
    "print(a)\n",
    "print()\n",
    "print(np.percentile(a,100))"
   ]
  },
  {
   "cell_type": "code",
   "execution_count": 46,
   "id": "34f7ceff",
   "metadata": {},
   "outputs": [
    {
     "name": "stdout",
     "output_type": "stream",
     "text": [
      "61.0\n"
     ]
    }
   ],
   "source": [
    "print(np.percentile(a,50))"
   ]
  },
  {
   "cell_type": "code",
   "execution_count": 47,
   "id": "48de09a3",
   "metadata": {},
   "outputs": [
    {
     "data": {
      "text/plain": [
       "61.0"
      ]
     },
     "execution_count": 47,
     "metadata": {},
     "output_type": "execute_result"
    }
   ],
   "source": [
    "np.median(a)"
   ]
  },
  {
   "cell_type": "markdown",
   "id": "d4567893",
   "metadata": {},
   "source": [
    "<h1 style=\"color:blue;font-size:30px\">np.histogram()</h1>"
   ]
  },
  {
   "cell_type": "code",
   "execution_count": 48,
   "id": "413f10d5",
   "metadata": {},
   "outputs": [
    {
     "name": "stdout",
     "output_type": "stream",
     "text": [
      "[65 68 63 24 55 61 68 73 12 30 70 10 64 21 32]\n",
      "\n",
      "(array([0, 2, 2, 2, 0, 1, 6, 2, 0, 0]), array([  0,  10,  20,  30,  40,  50,  60,  70,  80,  90, 100]))\n"
     ]
    }
   ],
   "source": [
    "print(a)\n",
    "print()\n",
    "print(np.histogram(a,bins=[0,10,20,30,40,50,60,70,80,90,100]))"
   ]
  },
  {
   "cell_type": "code",
   "execution_count": 49,
   "id": "3a3892f3",
   "metadata": {},
   "outputs": [
    {
     "name": "stdout",
     "output_type": "stream",
     "text": [
      "(array([6, 9]), array([  0,  50, 100]))\n"
     ]
    }
   ],
   "source": [
    "print(np.histogram(a,bins=[0,50,100]))"
   ]
  },
  {
   "cell_type": "markdown",
   "id": "252ea2f9",
   "metadata": {},
   "source": [
    "<h1 style=\"color:blue;font-size:30px\">np.corrcoef()</h1>"
   ]
  },
  {
   "cell_type": "code",
   "execution_count": 75,
   "id": "e810daee",
   "metadata": {},
   "outputs": [],
   "source": [
    "#corrcoef --> relation b/w s and e"
   ]
  },
  {
   "cell_type": "code",
   "execution_count": 50,
   "id": "711eaad5",
   "metadata": {},
   "outputs": [
    {
     "data": {
      "text/plain": [
       "array([[1.        , 0.62409986],\n",
       "       [0.62409986, 1.        ]])"
      ]
     },
     "execution_count": 50,
     "metadata": {},
     "output_type": "execute_result"
    }
   ],
   "source": [
    "s = np.array([2000,4000,25000,35000])\n",
    "e= np.array([1,3,2,4])\n",
    "\n",
    "np.corrcoef(s,e)"
   ]
  },
  {
   "cell_type": "markdown",
   "id": "70c72f77",
   "metadata": {},
   "source": [
    "<h1 style=\"color:blue;font-size:30px\">np.isin()</h1>"
   ]
  },
  {
   "cell_type": "code",
   "execution_count": 51,
   "id": "1de16349",
   "metadata": {},
   "outputs": [
    {
     "name": "stdout",
     "output_type": "stream",
     "text": [
      "[65 68 63 24 55 61 68 73 12 30 70 10 64 21 32]\n",
      "\n",
      "search element is 4 , 78 , 25\n",
      "\n",
      "[False False False False False False False False False False False False\n",
      " False False False]\n",
      "\n",
      "[]\n"
     ]
    }
   ],
   "source": [
    "#search multiple  items in single time\n",
    "print(a)\n",
    "print()\n",
    "print(\"search element is 4 , 78 , 25\")\n",
    "i = [4,78,25]\n",
    "print()\n",
    "print(np.isin(a,i))\n",
    "print()\n",
    "print(a[np.isin(a,i)])"
   ]
  },
  {
   "cell_type": "markdown",
   "id": "e903e5ed",
   "metadata": {},
   "source": [
    "<h1 style=\"color:blue;font-size:30px\">np.flip()</h1>"
   ]
  },
  {
   "cell_type": "code",
   "execution_count": 52,
   "id": "f5a01a18",
   "metadata": {},
   "outputs": [
    {
     "data": {
      "text/plain": [
       "array([65, 68, 63, 24, 55, 61, 68, 73, 12, 30, 70, 10, 64, 21, 32])"
      ]
     },
     "execution_count": 52,
     "metadata": {},
     "output_type": "execute_result"
    }
   ],
   "source": [
    "a"
   ]
  },
  {
   "cell_type": "code",
   "execution_count": 53,
   "id": "6bf5f921",
   "metadata": {},
   "outputs": [
    {
     "data": {
      "text/plain": [
       "array([32, 21, 64, 10, 70, 30, 12, 73, 68, 61, 55, 24, 63, 68, 65])"
      ]
     },
     "execution_count": 53,
     "metadata": {},
     "output_type": "execute_result"
    }
   ],
   "source": [
    "np.flip(a)"
   ]
  },
  {
   "cell_type": "code",
   "execution_count": 54,
   "id": "50136195",
   "metadata": {},
   "outputs": [
    {
     "data": {
      "text/plain": [
       "array([[48, 30,  4,  3],\n",
       "       [51, 26, 65, 82],\n",
       "       [82, 38, 60, 67],\n",
       "       [23, 36, 28, 52],\n",
       "       [46, 20, 26, 58],\n",
       "       [42, 59, 34, 68]])"
      ]
     },
     "execution_count": 54,
     "metadata": {},
     "output_type": "execute_result"
    }
   ],
   "source": [
    "b"
   ]
  },
  {
   "cell_type": "code",
   "execution_count": 55,
   "id": "7de0860e",
   "metadata": {},
   "outputs": [
    {
     "data": {
      "text/plain": [
       "array([[68, 34, 59, 42],\n",
       "       [58, 26, 20, 46],\n",
       "       [52, 28, 36, 23],\n",
       "       [67, 60, 38, 82],\n",
       "       [82, 65, 26, 51],\n",
       "       [ 3,  4, 30, 48]])"
      ]
     },
     "execution_count": 55,
     "metadata": {},
     "output_type": "execute_result"
    }
   ],
   "source": [
    "#this is doing both fliping\n",
    "#first row-wise then column-wise\n",
    "np.flip(b)"
   ]
  },
  {
   "cell_type": "markdown",
   "id": "eef0d66e",
   "metadata": {},
   "source": [
    "<h1 style=\"color:orange\">column-fliping</h1> "
   ]
  },
  {
   "cell_type": "code",
   "execution_count": 56,
   "id": "7090ec33",
   "metadata": {},
   "outputs": [
    {
     "name": "stdout",
     "output_type": "stream",
     "text": [
      "[[48 30  4  3]\n",
      " [51 26 65 82]\n",
      " [82 38 60 67]\n",
      " [23 36 28 52]\n",
      " [46 20 26 58]\n",
      " [42 59 34 68]]\n",
      "\n"
     ]
    },
    {
     "data": {
      "text/plain": [
       "array([[42, 59, 34, 68],\n",
       "       [46, 20, 26, 58],\n",
       "       [23, 36, 28, 52],\n",
       "       [82, 38, 60, 67],\n",
       "       [51, 26, 65, 82],\n",
       "       [48, 30,  4,  3]])"
      ]
     },
     "execution_count": 56,
     "metadata": {},
     "output_type": "execute_result"
    }
   ],
   "source": [
    "print(b)\n",
    "print()\n",
    "np.flip(b,axis=0)"
   ]
  },
  {
   "cell_type": "markdown",
   "id": "82bd6af9",
   "metadata": {},
   "source": [
    "<h1 style=\"color:orange\">row-wise</h1> "
   ]
  },
  {
   "cell_type": "code",
   "execution_count": 57,
   "id": "456a38b1",
   "metadata": {
    "scrolled": true
   },
   "outputs": [
    {
     "data": {
      "text/plain": [
       "array([[ 3,  4, 30, 48],\n",
       "       [82, 65, 26, 51],\n",
       "       [67, 60, 38, 82],\n",
       "       [52, 28, 36, 23],\n",
       "       [58, 26, 20, 46],\n",
       "       [68, 34, 59, 42]])"
      ]
     },
     "execution_count": 57,
     "metadata": {},
     "output_type": "execute_result"
    }
   ],
   "source": [
    "np.flip(b,axis=1)"
   ]
  },
  {
   "cell_type": "markdown",
   "id": "d899bbf9",
   "metadata": {},
   "source": [
    "<h1 style=\"color:blue;font-size:30px\">np.put()</h1>"
   ]
  },
  {
   "cell_type": "code",
   "execution_count": 58,
   "id": "0b29f367",
   "metadata": {},
   "outputs": [
    {
     "data": {
      "text/plain": [
       "array([65, 68, 63, 24, 55, 61, 68, 73, 12, 30, 70, 10, 64, 21, 32])"
      ]
     },
     "execution_count": 58,
     "metadata": {},
     "output_type": "execute_result"
    }
   ],
   "source": [
    "a"
   ]
  },
  {
   "cell_type": "markdown",
   "id": "6ff9565a",
   "metadata": {},
   "source": [
    "<h1 style=\"color:orange\">first give the array then index after that give value</h1> "
   ]
  },
  {
   "cell_type": "code",
   "execution_count": 59,
   "id": "1840ae8c",
   "metadata": {},
   "outputs": [
    {
     "data": {
      "text/plain": [
       "array([110, 530,  63,  24,  55,  61,  68,  73,  12,  30,  70,  10,  64,\n",
       "        21,  32])"
      ]
     },
     "execution_count": 59,
     "metadata": {},
     "output_type": "execute_result"
    }
   ],
   "source": [
    "np.put(a,[0,1],[110,530])\n",
    "a"
   ]
  },
  {
   "cell_type": "markdown",
   "id": "aa544a65",
   "metadata": {},
   "source": [
    "<h1 style=\"color:blue;font-size:30px\">np.delete()</h1>"
   ]
  },
  {
   "cell_type": "code",
   "execution_count": 60,
   "id": "69d2a514",
   "metadata": {},
   "outputs": [
    {
     "data": {
      "text/plain": [
       "array([110, 530,  63,  24,  55,  61,  68,  73,  12,  30,  70,  10,  64,\n",
       "        21,  32])"
      ]
     },
     "execution_count": 60,
     "metadata": {},
     "output_type": "execute_result"
    }
   ],
   "source": [
    "a"
   ]
  },
  {
   "cell_type": "markdown",
   "id": "4dd1e137",
   "metadata": {},
   "source": [
    "<h1 style=\"color:orange\">delet first item</h1> "
   ]
  },
  {
   "cell_type": "code",
   "execution_count": 61,
   "id": "f98a88db",
   "metadata": {},
   "outputs": [
    {
     "data": {
      "text/plain": [
       "array([530,  63,  24,  55,  61,  68,  73,  12,  30,  70,  10,  64,  21,\n",
       "        32])"
      ]
     },
     "execution_count": 61,
     "metadata": {},
     "output_type": "execute_result"
    }
   ],
   "source": [
    "np.delete(a,0)"
   ]
  },
  {
   "cell_type": "code",
   "execution_count": 62,
   "id": "2c75b366",
   "metadata": {},
   "outputs": [
    {
     "data": {
      "text/plain": [
       "array([530,  63,  61,  68,  73,  12,  30,  70,  10,  64,  21,  32])"
      ]
     },
     "execution_count": 62,
     "metadata": {},
     "output_type": "execute_result"
    }
   ],
   "source": [
    "np.delete(a,[0,4,3])"
   ]
  },
  {
   "cell_type": "markdown",
   "id": "537611f0",
   "metadata": {},
   "source": [
    "<h1 style=\"color:blue;font-size:30px\">Set Functions</h1>"
   ]
  },
  {
   "cell_type": "code",
   "execution_count": 79,
   "id": "4ffed01e",
   "metadata": {},
   "outputs": [],
   "source": [
    "#np.union1d\n",
    "#np.intersection1d\n",
    "#np.setdiff1d\n",
    "#np.setxor1d\n",
    "#np.in1d"
   ]
  },
  {
   "cell_type": "code",
   "execution_count": 63,
   "id": "3ba2dd43",
   "metadata": {},
   "outputs": [
    {
     "data": {
      "text/plain": [
       "array([1, 2, 3, 4, 5, 6, 7])"
      ]
     },
     "execution_count": 63,
     "metadata": {},
     "output_type": "execute_result"
    }
   ],
   "source": [
    "m = np.array([1,2,3,4,5])\n",
    "n = np.array([3,4,5,6,7])\n",
    "np.union1d(m,n)"
   ]
  },
  {
   "cell_type": "code",
   "execution_count": 64,
   "id": "48f1bc82",
   "metadata": {},
   "outputs": [
    {
     "data": {
      "text/plain": [
       "array([3, 4, 5])"
      ]
     },
     "execution_count": 64,
     "metadata": {},
     "output_type": "execute_result"
    }
   ],
   "source": [
    "np.intersect1d(m,n)"
   ]
  },
  {
   "cell_type": "code",
   "execution_count": 65,
   "id": "26d3a491",
   "metadata": {},
   "outputs": [
    {
     "data": {
      "text/plain": [
       "array([1, 2])"
      ]
     },
     "execution_count": 65,
     "metadata": {},
     "output_type": "execute_result"
    }
   ],
   "source": [
    "np.setdiff1d(m,n)"
   ]
  },
  {
   "cell_type": "code",
   "execution_count": 66,
   "id": "ba38e477",
   "metadata": {},
   "outputs": [
    {
     "data": {
      "text/plain": [
       "array([1, 2, 6, 7])"
      ]
     },
     "execution_count": 66,
     "metadata": {},
     "output_type": "execute_result"
    }
   ],
   "source": [
    "np.setxor1d(m,n)"
   ]
  },
  {
   "cell_type": "code",
   "execution_count": 67,
   "id": "caa5105e",
   "metadata": {},
   "outputs": [
    {
     "data": {
      "text/plain": [
       "array([ True, False, False, False, False])"
      ]
     },
     "execution_count": 67,
     "metadata": {},
     "output_type": "execute_result"
    }
   ],
   "source": [
    "np.in1d(m,1)"
   ]
  },
  {
   "cell_type": "markdown",
   "id": "117b381d",
   "metadata": {},
   "source": [
    "<h1 style=\"color:blue;font-size:30px\">np.clip()</h1>"
   ]
  },
  {
   "cell_type": "code",
   "execution_count": 68,
   "id": "576d4117",
   "metadata": {},
   "outputs": [
    {
     "data": {
      "text/plain": [
       "array([110, 530,  63,  24,  55,  61,  68,  73,  12,  30,  70,  10,  64,\n",
       "        21,  32])"
      ]
     },
     "execution_count": 68,
     "metadata": {},
     "output_type": "execute_result"
    }
   ],
   "source": [
    "a"
   ]
  },
  {
   "cell_type": "code",
   "execution_count": 69,
   "id": "d4dc4915",
   "metadata": {},
   "outputs": [
    {
     "data": {
      "text/plain": [
       "array([75, 75, 63, 25, 55, 61, 68, 73, 25, 30, 70, 25, 64, 25, 32])"
      ]
     },
     "execution_count": 69,
     "metadata": {},
     "output_type": "execute_result"
    }
   ],
   "source": [
    "np.clip(a,a_min=25,a_max=75)"
   ]
  },
  {
   "cell_type": "code",
   "execution_count": null,
   "id": "372b2c7f",
   "metadata": {},
   "outputs": [],
   "source": []
  },
  {
   "cell_type": "code",
   "execution_count": null,
   "id": "6964a439",
   "metadata": {},
   "outputs": [],
   "source": []
  }
 ],
 "metadata": {
  "kernelspec": {
   "display_name": "Python 3 (ipykernel)",
   "language": "python",
   "name": "python3"
  },
  "language_info": {
   "codemirror_mode": {
    "name": "ipython",
    "version": 3
   },
   "file_extension": ".py",
   "mimetype": "text/x-python",
   "name": "python",
   "nbconvert_exporter": "python",
   "pygments_lexer": "ipython3",
   "version": "3.9.13"
  }
 },
 "nbformat": 4,
 "nbformat_minor": 5
}
